{
 "cells": [
  {
   "cell_type": "code",
   "execution_count": 153,
   "metadata": {},
   "outputs": [],
   "source": [
    "import pandas as pd\n",
    "import numpy as np\n",
    "import matplotlib.pyplot as plt\n",
    "import seaborn as sns\n",
    "from sklearn.preprocessing import LabelEncoder\n",
    "import geopandas as gpd\n",
    "import matplotlib.pyplot as plt\n",
    "import geopandas\n",
    "\n"
   ]
  },
  {
   "cell_type": "code",
   "execution_count": 154,
   "metadata": {},
   "outputs": [],
   "source": [
    "df = pd.read_csv('Datathone.csv')"
   ]
  },
  {
   "attachments": {},
   "cell_type": "markdown",
   "metadata": {},
   "source": [
    "<li> Singleton : All women in this study had a single baby, no multiples. <br><br>\n",
    "<li> Medicaid_Program : FAMIS MOMS - program that serves pregnant women with incomes up to 200 percent of the FPL and provides benefits similar to Medicaid. Medicaid Expansion - program that serves adults ages 19 to 64 years of age with incomes up to 133 percent of the FPL. Members who become pregnant while already enrolled in the Medicaid Expansion group may remain in that eligibility category during the pregnancy Medicaid for Pregnant Women - program that serves pregnant women with incomes up to 143 percent of the federal poverty level (FPL) Not Enrolled - women who were not enrolled in Medicaid prior to delivery Other Aid Categories - include births paid by Medicaid that do not fall within the Medicaid for Pregnant Women, Medicaid Expansion, or FAMIS MOMS programs<br><br>\n",
    "<li> Population_Group : Study Population- Women enrolled in Medicaid for Pregnant Women, Medicaid Expansion, FAMIS MOMS, or Other Aid Categories on the date of delivery, with continuous enrollment in any Medicaid program or combination of programs for 120 or more days (counting the date of delivery),\"Comparison Group- Women enrolled in any of the four Medicaid programs (i.e., Medicaid for Pregnant Women, Medicaid Expansion, FAMIS MOMS, or Other Aid Categories) on the date of delivery with continuous enrollment in any Medicaid program or combination of programs for fewer than 120 days (counting the date of delivery), Comparison Group- Women enrolled in any of the four Medicaid programs (i.e., Medicaid for Pregnant Women, Medicaid Expansion, FAMIS MOMS, or Other Aid Categories) on the date of delivery with continuous enrollment in any Medicaid program or combination of programs for fewer than 120 days (counting the date of delivery)<br><br>\n",
    "<li> Delivery_System : Women enrolled in FFS, Managed Care Organization (MCO), or NA (not enrolled in Medicaid prior to delivery)<br><br>\n",
    "<li> MCO_COUNT : Enrolled with more than one MCO prior to delivery Enrolled with one MCO prior to delivery , Not enrolled prior to delivery - women were not enrolled in FFS or Managed Care prior to delivery , Not enrolled with an MCO prior to delivery (e.g., FFS) - women were enrolled in FFS, not managed care, prior to delivery<br><br>\n",
    "<li>Cont_Enroll_Category : Length of time the woman was continuously enrolled in any Medicaid program or combination of programs without a break in coverage<br><br>\n",
    "<li> Gravidity : The number of times the woman has been pregnant<br><br>\n",
    "<li>Trimester : Trimester of prenatal care initiation<br><br>\n",
    "<li>Maternal_Region\t: Woman's managed care region of residence<br><br>\n",
    "<li> Maternal_RaceEth : Woman's rate/ethnicity<br><br>\n",
    "<li> Maternal_Age : Woman's age at delivery<br><br>\n",
    "<li> MATERNAL_ASTHMA : Women diagnosed as having Asthma (Y, N, NA= women not enrolled prior to pregnancy)<br><br>\n",
    "<li> MATERNAL_DIABETES\t: Women diagnosed as having Maternal Diabetes (Y, N, NA= women not enrolled prior to pregnancy)<br><br>\n",
    "<li> GESTATIONAL_DIABETES : Women diagnosed as having Gestational Diabetes (Y, N, NA= women not enrolled prior to pregnancy)<br><br>\n",
    "\n",
    "<li> PNC_Index : Adequate Plus PNC - women who received 110% or more of expected prenatal care visits , Adequate PNC - women who received 80–109% of expected prenatal care visits , Intermediate PNC - women who received 50–79% of expected prenatal care visits , Inadequate PNC - women who received less than 50% of expected prenatal care visits , Births with No Prenatal Care - women who received 0% of expected prenatal care visits , \"Missing Info - Information on the number of prenatal care visits is unavailable <br><br>\n",
    "\n",
    "<li> Gestational_Age : Gestational age at time of delivery Extremely Preterm - baby born before 28 weeks of pregnancy , Very Preterm - baby born 28-31 weeks of pregnancy , Moderate Preterm - baby born 32-33 weeks of pregnancy , Late Preterm - baby born 34-36 weeks of pregnancy , Early Term - baby born 37-38 weeks of pregnancy , Full Term - baby born 39-40 weeks of pregnancy , Late Term - baby born 41 weeks of pregnancy , Post Term - baby born after 41 weeks of pregnancy , Missing - Information is unavailable <br><br>\n",
    "<li> Birth_Weight : Very Low - birth weights less than 1,500 grams , Moderately Low - birth weights between 1,500 and 2,499 grams , Not Low - birth weights greater than 2,499 grams ,Missing - Information is unavailable <br><br>\n",
    "<li> Delivery_Method : Vaginal, Cesarean , Missing <br><br>\n",
    "<li> ED_Utilization\t: Women who utilized ED services within 90 days of delivery <br><br>\n",
    "<li> AMB_Utilization : Women who utilized ambulatory care services within 90 days of delivery <br><br>\n",
    "<li> Prenatal_SBIRT\t: Women who completed a Screening, Brief Intervention and Referral to Treatment (SBIRT) screening prior to delivery <br><br>\n",
    "<li> Postpartum_SBIRT : Women who completed a Screening, Brief Intervention and Referral to Treatment (SBIRT) screening after delivery <br><br>\n",
    "<li> Prenatal_DepScr : Women who received a screening for depression during pregnancy <br><br>\n",
    "<li> Postpartum_DepScr : Women who received a screening for depression on or between seven and 84 days after delivery <br><br>\n",
    "\n",
    "\n",
    "\n",
    "\n"
   ]
  },
  {
   "cell_type": "code",
   "execution_count": 155,
   "metadata": {},
   "outputs": [
    {
     "data": {
      "text/html": [
       "<div>\n",
       "<style scoped>\n",
       "    .dataframe tbody tr th:only-of-type {\n",
       "        vertical-align: middle;\n",
       "    }\n",
       "\n",
       "    .dataframe tbody tr th {\n",
       "        vertical-align: top;\n",
       "    }\n",
       "\n",
       "    .dataframe thead th {\n",
       "        text-align: right;\n",
       "    }\n",
       "</style>\n",
       "<table border=\"1\" class=\"dataframe\">\n",
       "  <thead>\n",
       "    <tr style=\"text-align: right;\">\n",
       "      <th></th>\n",
       "      <th>Singleton</th>\n",
       "      <th>Medicaid_Program</th>\n",
       "      <th>Population_Group</th>\n",
       "      <th>Delivery_System</th>\n",
       "      <th>MCO_COUNT</th>\n",
       "      <th>Cont_Enroll_Category</th>\n",
       "      <th>Gravidity</th>\n",
       "      <th>Trimester</th>\n",
       "      <th>Maternal_Region</th>\n",
       "      <th>Maternal_RaceEth</th>\n",
       "      <th>...</th>\n",
       "      <th>PNC_Index</th>\n",
       "      <th>Gestational_Age</th>\n",
       "      <th>Birth_Weight</th>\n",
       "      <th>Delivery_Method</th>\n",
       "      <th>ED_Utilization</th>\n",
       "      <th>AMB_Utilization</th>\n",
       "      <th>Prenatal_SBIRT</th>\n",
       "      <th>Postpartum_SBIRT</th>\n",
       "      <th>Prenatal_DepScr</th>\n",
       "      <th>Postpartum_DepScr</th>\n",
       "    </tr>\n",
       "  </thead>\n",
       "  <tbody>\n",
       "    <tr>\n",
       "      <th>0</th>\n",
       "      <td>Singleton</td>\n",
       "      <td>Medicaid for Pregnant Women</td>\n",
       "      <td>Comparison Group</td>\n",
       "      <td>Fee-for-Service</td>\n",
       "      <td>Not enrolled with an MCO prior to delivery (e....</td>\n",
       "      <td>Enrolled for less than or equal to 30 days pri...</td>\n",
       "      <td>Had Prior Pregnancy</td>\n",
       "      <td>1st</td>\n",
       "      <td>Tidewater</td>\n",
       "      <td>African American</td>\n",
       "      <td>...</td>\n",
       "      <td>Adequate Plus PNC</td>\n",
       "      <td>Early Term</td>\n",
       "      <td>Not Low</td>\n",
       "      <td>Vaginal</td>\n",
       "      <td>False</td>\n",
       "      <td>False</td>\n",
       "      <td>False</td>\n",
       "      <td>False</td>\n",
       "      <td>False</td>\n",
       "      <td>False</td>\n",
       "    </tr>\n",
       "    <tr>\n",
       "      <th>1</th>\n",
       "      <td>Singleton</td>\n",
       "      <td>Medicaid for Pregnant Women</td>\n",
       "      <td>Comparison Group</td>\n",
       "      <td>Fee-for-Service</td>\n",
       "      <td>Not enrolled with an MCO prior to delivery (e....</td>\n",
       "      <td>Enrolled for less than or equal to 30 days pri...</td>\n",
       "      <td>No Prior Pregnancy</td>\n",
       "      <td>3rd</td>\n",
       "      <td>Tidewater</td>\n",
       "      <td>White</td>\n",
       "      <td>...</td>\n",
       "      <td>Inadequate PNC</td>\n",
       "      <td>Early Term</td>\n",
       "      <td>Not Low</td>\n",
       "      <td>Vaginal</td>\n",
       "      <td>False</td>\n",
       "      <td>False</td>\n",
       "      <td>False</td>\n",
       "      <td>False</td>\n",
       "      <td>False</td>\n",
       "      <td>False</td>\n",
       "    </tr>\n",
       "    <tr>\n",
       "      <th>2</th>\n",
       "      <td>Singleton</td>\n",
       "      <td>Not Enrolled</td>\n",
       "      <td>Comparison Group</td>\n",
       "      <td>NaN</td>\n",
       "      <td>Not enrolled prior to delivery</td>\n",
       "      <td>Not enrolled</td>\n",
       "      <td>No Prior Pregnancy</td>\n",
       "      <td>1st</td>\n",
       "      <td>Tidewater</td>\n",
       "      <td>White</td>\n",
       "      <td>...</td>\n",
       "      <td>Intermediate PNC</td>\n",
       "      <td>Early Term</td>\n",
       "      <td>Not Low</td>\n",
       "      <td>Vaginal</td>\n",
       "      <td>False</td>\n",
       "      <td>False</td>\n",
       "      <td>False</td>\n",
       "      <td>False</td>\n",
       "      <td>False</td>\n",
       "      <td>False</td>\n",
       "    </tr>\n",
       "    <tr>\n",
       "      <th>3</th>\n",
       "      <td>Singleton</td>\n",
       "      <td>Other Aid Categories</td>\n",
       "      <td>Comparison Group</td>\n",
       "      <td>Managed Care</td>\n",
       "      <td>Enrolled with one MCO prior to delivery</td>\n",
       "      <td>Enrolled for 31 to 90 days prior to delivery</td>\n",
       "      <td>No Prior Pregnancy</td>\n",
       "      <td>2nd</td>\n",
       "      <td>Tidewater</td>\n",
       "      <td>African American</td>\n",
       "      <td>...</td>\n",
       "      <td>Adequate PNC</td>\n",
       "      <td>Full Term</td>\n",
       "      <td>Not Low</td>\n",
       "      <td>Vaginal</td>\n",
       "      <td>False</td>\n",
       "      <td>False</td>\n",
       "      <td>False</td>\n",
       "      <td>False</td>\n",
       "      <td>True</td>\n",
       "      <td>False</td>\n",
       "    </tr>\n",
       "    <tr>\n",
       "      <th>4</th>\n",
       "      <td>Singleton</td>\n",
       "      <td>Medicaid for Pregnant Women</td>\n",
       "      <td>Comparison Group</td>\n",
       "      <td>Fee-for-Service</td>\n",
       "      <td>Not enrolled with an MCO prior to delivery (e....</td>\n",
       "      <td>Enrolled for 91 to 180 days prior to delivery</td>\n",
       "      <td>Had Prior Pregnancy</td>\n",
       "      <td>2nd</td>\n",
       "      <td>Tidewater</td>\n",
       "      <td>African American</td>\n",
       "      <td>...</td>\n",
       "      <td>Adequate PNC</td>\n",
       "      <td>Full Term</td>\n",
       "      <td>Not Low</td>\n",
       "      <td>Vaginal</td>\n",
       "      <td>False</td>\n",
       "      <td>False</td>\n",
       "      <td>False</td>\n",
       "      <td>False</td>\n",
       "      <td>False</td>\n",
       "      <td>False</td>\n",
       "    </tr>\n",
       "  </tbody>\n",
       "</table>\n",
       "<p>5 rows × 24 columns</p>\n",
       "</div>"
      ],
      "text/plain": [
       "   Singleton             Medicaid_Program  Population_Group  Delivery_System  \\\n",
       "0  Singleton  Medicaid for Pregnant Women  Comparison Group  Fee-for-Service   \n",
       "1  Singleton  Medicaid for Pregnant Women  Comparison Group  Fee-for-Service   \n",
       "2  Singleton                 Not Enrolled  Comparison Group              NaN   \n",
       "3  Singleton         Other Aid Categories  Comparison Group     Managed Care   \n",
       "4  Singleton  Medicaid for Pregnant Women  Comparison Group  Fee-for-Service   \n",
       "\n",
       "                                           MCO_COUNT  \\\n",
       "0  Not enrolled with an MCO prior to delivery (e....   \n",
       "1  Not enrolled with an MCO prior to delivery (e....   \n",
       "2                     Not enrolled prior to delivery   \n",
       "3            Enrolled with one MCO prior to delivery   \n",
       "4  Not enrolled with an MCO prior to delivery (e....   \n",
       "\n",
       "                                Cont_Enroll_Category            Gravidity  \\\n",
       "0  Enrolled for less than or equal to 30 days pri...  Had Prior Pregnancy   \n",
       "1  Enrolled for less than or equal to 30 days pri...   No Prior Pregnancy   \n",
       "2                                       Not enrolled   No Prior Pregnancy   \n",
       "3       Enrolled for 31 to 90 days prior to delivery   No Prior Pregnancy   \n",
       "4      Enrolled for 91 to 180 days prior to delivery  Had Prior Pregnancy   \n",
       "\n",
       "  Trimester Maternal_Region  Maternal_RaceEth  ...          PNC_Index  \\\n",
       "0       1st       Tidewater  African American  ...  Adequate Plus PNC   \n",
       "1       3rd       Tidewater             White  ...     Inadequate PNC   \n",
       "2       1st       Tidewater             White  ...   Intermediate PNC   \n",
       "3       2nd       Tidewater  African American  ...       Adequate PNC   \n",
       "4       2nd       Tidewater  African American  ...       Adequate PNC   \n",
       "\n",
       "  Gestational_Age Birth_Weight Delivery_Method ED_Utilization AMB_Utilization  \\\n",
       "0      Early Term      Not Low         Vaginal          False           False   \n",
       "1      Early Term      Not Low         Vaginal          False           False   \n",
       "2      Early Term      Not Low         Vaginal          False           False   \n",
       "3       Full Term      Not Low         Vaginal          False           False   \n",
       "4       Full Term      Not Low         Vaginal          False           False   \n",
       "\n",
       "  Prenatal_SBIRT Postpartum_SBIRT  Prenatal_DepScr  Postpartum_DepScr  \n",
       "0          False            False            False              False  \n",
       "1          False            False            False              False  \n",
       "2          False            False            False              False  \n",
       "3          False            False             True              False  \n",
       "4          False            False            False              False  \n",
       "\n",
       "[5 rows x 24 columns]"
      ]
     },
     "execution_count": 155,
     "metadata": {},
     "output_type": "execute_result"
    }
   ],
   "source": [
    "df.head()"
   ]
  },
  {
   "cell_type": "code",
   "execution_count": 156,
   "metadata": {},
   "outputs": [
    {
     "name": "stdout",
     "output_type": "stream",
     "text": [
      "<class 'pandas.core.frame.DataFrame'>\n",
      "RangeIndex: 34401 entries, 0 to 34400\n",
      "Data columns (total 24 columns):\n",
      " #   Column                Non-Null Count  Dtype \n",
      "---  ------                --------------  ----- \n",
      " 0   Singleton             34401 non-null  object\n",
      " 1   Medicaid_Program      34401 non-null  object\n",
      " 2   Population_Group      34401 non-null  object\n",
      " 3   Delivery_System       33426 non-null  object\n",
      " 4   MCO_COUNT             34401 non-null  object\n",
      " 5   Cont_Enroll_Category  34401 non-null  object\n",
      " 6   Gravidity             34401 non-null  object\n",
      " 7   Trimester             34401 non-null  object\n",
      " 8   Maternal_Region       34401 non-null  object\n",
      " 9   Maternal_RaceEth      34401 non-null  object\n",
      " 10  Maternal_Age          34401 non-null  object\n",
      " 11  MATERNAL_ASTHMA       33427 non-null  object\n",
      " 12  MATERNAL_DIABETES     33426 non-null  object\n",
      " 13  GESTATIONAL_DIABETES  33426 non-null  object\n",
      " 14  PNC_Index             34401 non-null  object\n",
      " 15  Gestational_Age       34401 non-null  object\n",
      " 16  Birth_Weight          34401 non-null  object\n",
      " 17  Delivery_Method       34401 non-null  object\n",
      " 18  ED_Utilization        34401 non-null  bool  \n",
      " 19  AMB_Utilization       34401 non-null  bool  \n",
      " 20  Prenatal_SBIRT        34401 non-null  bool  \n",
      " 21  Postpartum_SBIRT      34401 non-null  bool  \n",
      " 22  Prenatal_DepScr       34401 non-null  bool  \n",
      " 23  Postpartum_DepScr     34401 non-null  bool  \n",
      "dtypes: bool(6), object(18)\n",
      "memory usage: 4.9+ MB\n"
     ]
    }
   ],
   "source": [
    "df.info()"
   ]
  },
  {
   "cell_type": "code",
   "execution_count": 157,
   "metadata": {},
   "outputs": [
    {
     "data": {
      "text/plain": [
       "Singleton                 0\n",
       "Medicaid_Program          0\n",
       "Population_Group          0\n",
       "Delivery_System         975\n",
       "MCO_COUNT                 0\n",
       "Cont_Enroll_Category      0\n",
       "Gravidity                 0\n",
       "Trimester                 0\n",
       "Maternal_Region           0\n",
       "Maternal_RaceEth          0\n",
       "Maternal_Age              0\n",
       "MATERNAL_ASTHMA         974\n",
       "MATERNAL_DIABETES       975\n",
       "GESTATIONAL_DIABETES    975\n",
       "PNC_Index                 0\n",
       "Gestational_Age           0\n",
       "Birth_Weight              0\n",
       "Delivery_Method           0\n",
       "ED_Utilization            0\n",
       "AMB_Utilization           0\n",
       "Prenatal_SBIRT            0\n",
       "Postpartum_SBIRT          0\n",
       "Prenatal_DepScr           0\n",
       "Postpartum_DepScr         0\n",
       "dtype: int64"
      ]
     },
     "execution_count": 157,
     "metadata": {},
     "output_type": "execute_result"
    }
   ],
   "source": [
    "df.isnull().sum()"
   ]
  },
  {
   "cell_type": "code",
   "execution_count": 158,
   "metadata": {},
   "outputs": [
    {
     "data": {
      "text/plain": [
       "Index(['Singleton', 'Medicaid_Program', 'Population_Group', 'Delivery_System',\n",
       "       'MCO_COUNT', 'Cont_Enroll_Category', 'Gravidity', 'Trimester',\n",
       "       'Maternal_Region', 'Maternal_RaceEth', 'Maternal_Age',\n",
       "       'MATERNAL_ASTHMA', 'MATERNAL_DIABETES', 'GESTATIONAL_DIABETES',\n",
       "       'PNC_Index', 'Gestational_Age', 'Birth_Weight', 'Delivery_Method',\n",
       "       'ED_Utilization', 'AMB_Utilization', 'Prenatal_SBIRT',\n",
       "       'Postpartum_SBIRT', 'Prenatal_DepScr', 'Postpartum_DepScr'],\n",
       "      dtype='object')"
      ]
     },
     "execution_count": 158,
     "metadata": {},
     "output_type": "execute_result"
    }
   ],
   "source": [
    "df.columns"
   ]
  },
  {
   "cell_type": "code",
   "execution_count": 159,
   "metadata": {},
   "outputs": [
    {
     "data": {
      "text/plain": [
       "(34401, 24)"
      ]
     },
     "execution_count": 159,
     "metadata": {},
     "output_type": "execute_result"
    }
   ],
   "source": [
    "df.shape"
   ]
  },
  {
   "cell_type": "code",
   "execution_count": 160,
   "metadata": {},
   "outputs": [
    {
     "data": {
      "text/plain": [
       "Central                    9068\n",
       "Northern & Winchester      8582\n",
       "Tidewater                  8158\n",
       "Charlottesville/Western    4323\n",
       "Roanoke/Alleghany          3154\n",
       "Southwest                  1108\n",
       "Missing/Unknown               8\n",
       "Name: Maternal_Region, dtype: int64"
      ]
     },
     "execution_count": 160,
     "metadata": {},
     "output_type": "execute_result"
    }
   ],
   "source": [
    "df['Maternal_Region'].value_counts()"
   ]
  },
  {
   "cell_type": "markdown",
   "metadata": {},
   "source": [
    "# Preprocessing"
   ]
  },
  {
   "cell_type": "code",
   "execution_count": 161,
   "metadata": {},
   "outputs": [],
   "source": [
    "df = df.drop_duplicates()"
   ]
  },
  {
   "cell_type": "code",
   "execution_count": 162,
   "metadata": {},
   "outputs": [],
   "source": [
    "df = df.dropna()"
   ]
  },
  {
   "cell_type": "code",
   "execution_count": 163,
   "metadata": {},
   "outputs": [
    {
     "data": {
      "text/plain": [
       "Singleton               0\n",
       "Medicaid_Program        0\n",
       "Population_Group        0\n",
       "Delivery_System         0\n",
       "MCO_COUNT               0\n",
       "Cont_Enroll_Category    0\n",
       "Gravidity               0\n",
       "Trimester               0\n",
       "Maternal_Region         0\n",
       "Maternal_RaceEth        0\n",
       "Maternal_Age            0\n",
       "MATERNAL_ASTHMA         0\n",
       "MATERNAL_DIABETES       0\n",
       "GESTATIONAL_DIABETES    0\n",
       "PNC_Index               0\n",
       "Gestational_Age         0\n",
       "Birth_Weight            0\n",
       "Delivery_Method         0\n",
       "ED_Utilization          0\n",
       "AMB_Utilization         0\n",
       "Prenatal_SBIRT          0\n",
       "Postpartum_SBIRT        0\n",
       "Prenatal_DepScr         0\n",
       "Postpartum_DepScr       0\n",
       "dtype: int64"
      ]
     },
     "execution_count": 163,
     "metadata": {},
     "output_type": "execute_result"
    }
   ],
   "source": [
    "df.isnull().sum()"
   ]
  },
  {
   "cell_type": "code",
   "execution_count": 164,
   "metadata": {},
   "outputs": [],
   "source": [
    "df = df[['Medicaid_Program', 'Maternal_Region', 'Population_Group', 'MCO_COUNT', 'Cont_Enroll_Category', 'PNC_Index', 'Prenatal_SBIRT', 'Postpartum_SBIRT', 'Prenatal_DepScr']]\n"
   ]
  },
  {
   "cell_type": "code",
   "execution_count": 165,
   "metadata": {},
   "outputs": [
    {
     "data": {
      "text/html": [
       "<div>\n",
       "<style scoped>\n",
       "    .dataframe tbody tr th:only-of-type {\n",
       "        vertical-align: middle;\n",
       "    }\n",
       "\n",
       "    .dataframe tbody tr th {\n",
       "        vertical-align: top;\n",
       "    }\n",
       "\n",
       "    .dataframe thead th {\n",
       "        text-align: right;\n",
       "    }\n",
       "</style>\n",
       "<table border=\"1\" class=\"dataframe\">\n",
       "  <thead>\n",
       "    <tr style=\"text-align: right;\">\n",
       "      <th></th>\n",
       "      <th>Medicaid_Program</th>\n",
       "      <th>Maternal_Region</th>\n",
       "      <th>Population_Group</th>\n",
       "      <th>MCO_COUNT</th>\n",
       "      <th>Cont_Enroll_Category</th>\n",
       "      <th>PNC_Index</th>\n",
       "      <th>Prenatal_SBIRT</th>\n",
       "      <th>Postpartum_SBIRT</th>\n",
       "      <th>Prenatal_DepScr</th>\n",
       "    </tr>\n",
       "  </thead>\n",
       "  <tbody>\n",
       "    <tr>\n",
       "      <th>0</th>\n",
       "      <td>Medicaid for Pregnant Women</td>\n",
       "      <td>Tidewater</td>\n",
       "      <td>Comparison Group</td>\n",
       "      <td>Not enrolled with an MCO prior to delivery (e....</td>\n",
       "      <td>Enrolled for less than or equal to 30 days pri...</td>\n",
       "      <td>Adequate Plus PNC</td>\n",
       "      <td>False</td>\n",
       "      <td>False</td>\n",
       "      <td>False</td>\n",
       "    </tr>\n",
       "    <tr>\n",
       "      <th>1</th>\n",
       "      <td>Medicaid for Pregnant Women</td>\n",
       "      <td>Tidewater</td>\n",
       "      <td>Comparison Group</td>\n",
       "      <td>Not enrolled with an MCO prior to delivery (e....</td>\n",
       "      <td>Enrolled for less than or equal to 30 days pri...</td>\n",
       "      <td>Inadequate PNC</td>\n",
       "      <td>False</td>\n",
       "      <td>False</td>\n",
       "      <td>False</td>\n",
       "    </tr>\n",
       "    <tr>\n",
       "      <th>3</th>\n",
       "      <td>Other Aid Categories</td>\n",
       "      <td>Tidewater</td>\n",
       "      <td>Comparison Group</td>\n",
       "      <td>Enrolled with one MCO prior to delivery</td>\n",
       "      <td>Enrolled for 31 to 90 days prior to delivery</td>\n",
       "      <td>Adequate PNC</td>\n",
       "      <td>False</td>\n",
       "      <td>False</td>\n",
       "      <td>True</td>\n",
       "    </tr>\n",
       "    <tr>\n",
       "      <th>4</th>\n",
       "      <td>Medicaid for Pregnant Women</td>\n",
       "      <td>Tidewater</td>\n",
       "      <td>Comparison Group</td>\n",
       "      <td>Not enrolled with an MCO prior to delivery (e....</td>\n",
       "      <td>Enrolled for 91 to 180 days prior to delivery</td>\n",
       "      <td>Adequate PNC</td>\n",
       "      <td>False</td>\n",
       "      <td>False</td>\n",
       "      <td>False</td>\n",
       "    </tr>\n",
       "    <tr>\n",
       "      <th>6</th>\n",
       "      <td>FAMIS MOMS</td>\n",
       "      <td>Charlottesville/Western</td>\n",
       "      <td>Comparison Group</td>\n",
       "      <td>Enrolled with one MCO prior to delivery</td>\n",
       "      <td>Enrolled for 91 to 180 days prior to delivery</td>\n",
       "      <td>Adequate Plus PNC</td>\n",
       "      <td>False</td>\n",
       "      <td>False</td>\n",
       "      <td>False</td>\n",
       "    </tr>\n",
       "    <tr>\n",
       "      <th>...</th>\n",
       "      <td>...</td>\n",
       "      <td>...</td>\n",
       "      <td>...</td>\n",
       "      <td>...</td>\n",
       "      <td>...</td>\n",
       "      <td>...</td>\n",
       "      <td>...</td>\n",
       "      <td>...</td>\n",
       "      <td>...</td>\n",
       "    </tr>\n",
       "    <tr>\n",
       "      <th>34394</th>\n",
       "      <td>Medicaid Expansion</td>\n",
       "      <td>Tidewater</td>\n",
       "      <td>Study Population</td>\n",
       "      <td>Enrolled with one MCO prior to delivery</td>\n",
       "      <td>Enrolled for more than 180 days prior to delivery</td>\n",
       "      <td>Inadequate PNC</td>\n",
       "      <td>False</td>\n",
       "      <td>False</td>\n",
       "      <td>False</td>\n",
       "    </tr>\n",
       "    <tr>\n",
       "      <th>34395</th>\n",
       "      <td>Medicaid for Pregnant Women</td>\n",
       "      <td>Central</td>\n",
       "      <td>Study Population</td>\n",
       "      <td>Enrolled with one MCO prior to delivery</td>\n",
       "      <td>Enrolled for more than 180 days prior to delivery</td>\n",
       "      <td>Adequate PNC</td>\n",
       "      <td>False</td>\n",
       "      <td>False</td>\n",
       "      <td>False</td>\n",
       "    </tr>\n",
       "    <tr>\n",
       "      <th>34396</th>\n",
       "      <td>FAMIS MOMS</td>\n",
       "      <td>Tidewater</td>\n",
       "      <td>Study Population</td>\n",
       "      <td>Enrolled with one MCO prior to delivery</td>\n",
       "      <td>Enrolled for 91 to 180 days prior to delivery</td>\n",
       "      <td>Inadequate PNC</td>\n",
       "      <td>False</td>\n",
       "      <td>False</td>\n",
       "      <td>False</td>\n",
       "    </tr>\n",
       "    <tr>\n",
       "      <th>34398</th>\n",
       "      <td>Medicaid for Pregnant Women</td>\n",
       "      <td>Roanoke/Alleghany</td>\n",
       "      <td>Study Population</td>\n",
       "      <td>Enrolled with one MCO prior to delivery</td>\n",
       "      <td>Enrolled for more than 180 days prior to delivery</td>\n",
       "      <td>Adequate PNC</td>\n",
       "      <td>False</td>\n",
       "      <td>False</td>\n",
       "      <td>False</td>\n",
       "    </tr>\n",
       "    <tr>\n",
       "      <th>34400</th>\n",
       "      <td>Medicaid for Pregnant Women</td>\n",
       "      <td>Central</td>\n",
       "      <td>Study Population</td>\n",
       "      <td>Enrolled with more than one MCO prior to delivery</td>\n",
       "      <td>Enrolled for more than 180 days prior to delivery</td>\n",
       "      <td>Adequate PNC</td>\n",
       "      <td>False</td>\n",
       "      <td>False</td>\n",
       "      <td>False</td>\n",
       "    </tr>\n",
       "  </tbody>\n",
       "</table>\n",
       "<p>26170 rows × 9 columns</p>\n",
       "</div>"
      ],
      "text/plain": [
       "                  Medicaid_Program          Maternal_Region  Population_Group  \\\n",
       "0      Medicaid for Pregnant Women                Tidewater  Comparison Group   \n",
       "1      Medicaid for Pregnant Women                Tidewater  Comparison Group   \n",
       "3             Other Aid Categories                Tidewater  Comparison Group   \n",
       "4      Medicaid for Pregnant Women                Tidewater  Comparison Group   \n",
       "6                       FAMIS MOMS  Charlottesville/Western  Comparison Group   \n",
       "...                            ...                      ...               ...   \n",
       "34394           Medicaid Expansion                Tidewater  Study Population   \n",
       "34395  Medicaid for Pregnant Women                  Central  Study Population   \n",
       "34396                   FAMIS MOMS                Tidewater  Study Population   \n",
       "34398  Medicaid for Pregnant Women        Roanoke/Alleghany  Study Population   \n",
       "34400  Medicaid for Pregnant Women                  Central  Study Population   \n",
       "\n",
       "                                               MCO_COUNT  \\\n",
       "0      Not enrolled with an MCO prior to delivery (e....   \n",
       "1      Not enrolled with an MCO prior to delivery (e....   \n",
       "3                Enrolled with one MCO prior to delivery   \n",
       "4      Not enrolled with an MCO prior to delivery (e....   \n",
       "6                Enrolled with one MCO prior to delivery   \n",
       "...                                                  ...   \n",
       "34394            Enrolled with one MCO prior to delivery   \n",
       "34395            Enrolled with one MCO prior to delivery   \n",
       "34396            Enrolled with one MCO prior to delivery   \n",
       "34398            Enrolled with one MCO prior to delivery   \n",
       "34400  Enrolled with more than one MCO prior to delivery   \n",
       "\n",
       "                                    Cont_Enroll_Category          PNC_Index  \\\n",
       "0      Enrolled for less than or equal to 30 days pri...  Adequate Plus PNC   \n",
       "1      Enrolled for less than or equal to 30 days pri...     Inadequate PNC   \n",
       "3           Enrolled for 31 to 90 days prior to delivery       Adequate PNC   \n",
       "4          Enrolled for 91 to 180 days prior to delivery       Adequate PNC   \n",
       "6          Enrolled for 91 to 180 days prior to delivery  Adequate Plus PNC   \n",
       "...                                                  ...                ...   \n",
       "34394  Enrolled for more than 180 days prior to delivery     Inadequate PNC   \n",
       "34395  Enrolled for more than 180 days prior to delivery       Adequate PNC   \n",
       "34396      Enrolled for 91 to 180 days prior to delivery     Inadequate PNC   \n",
       "34398  Enrolled for more than 180 days prior to delivery       Adequate PNC   \n",
       "34400  Enrolled for more than 180 days prior to delivery       Adequate PNC   \n",
       "\n",
       "       Prenatal_SBIRT  Postpartum_SBIRT  Prenatal_DepScr  \n",
       "0               False             False            False  \n",
       "1               False             False            False  \n",
       "3               False             False             True  \n",
       "4               False             False            False  \n",
       "6               False             False            False  \n",
       "...               ...               ...              ...  \n",
       "34394           False             False            False  \n",
       "34395           False             False            False  \n",
       "34396           False             False            False  \n",
       "34398           False             False            False  \n",
       "34400           False             False            False  \n",
       "\n",
       "[26170 rows x 9 columns]"
      ]
     },
     "execution_count": 165,
     "metadata": {},
     "output_type": "execute_result"
    }
   ],
   "source": [
    "df"
   ]
  },
  {
   "cell_type": "code",
   "execution_count": 166,
   "metadata": {},
   "outputs": [
    {
     "name": "stdout",
     "output_type": "stream",
     "text": [
      "<class 'pandas.core.frame.DataFrame'>\n",
      "Int64Index: 26170 entries, 0 to 34400\n",
      "Data columns (total 9 columns):\n",
      " #   Column                Non-Null Count  Dtype \n",
      "---  ------                --------------  ----- \n",
      " 0   Medicaid_Program      26170 non-null  object\n",
      " 1   Maternal_Region       26170 non-null  object\n",
      " 2   Population_Group      26170 non-null  object\n",
      " 3   MCO_COUNT             26170 non-null  object\n",
      " 4   Cont_Enroll_Category  26170 non-null  object\n",
      " 5   PNC_Index             26170 non-null  object\n",
      " 6   Prenatal_SBIRT        26170 non-null  bool  \n",
      " 7   Postpartum_SBIRT      26170 non-null  bool  \n",
      " 8   Prenatal_DepScr       26170 non-null  bool  \n",
      "dtypes: bool(3), object(6)\n",
      "memory usage: 1.5+ MB\n"
     ]
    }
   ],
   "source": [
    "df.info()"
   ]
  },
  {
   "cell_type": "code",
   "execution_count": 167,
   "metadata": {},
   "outputs": [],
   "source": [
    "df = df[df['Maternal_Region'] != 'Missing/Unknown']"
   ]
  },
  {
   "cell_type": "code",
   "execution_count": 168,
   "metadata": {},
   "outputs": [
    {
     "data": {
      "image/png": "[encoded data removed]",
      "text/plain": [
       "<Figure size 864x576 with 1 Axes>"
      ]
     },
     "metadata": {
      "needs_background": "light"
     },
     "output_type": "display_data"
    }
   ],
   "source": [
    "\n",
    "\n",
    "# Group the data by region and compute the mean values for each variable\n",
    "df_grouped = df.groupby('Maternal_Region').mean()\n",
    "\n",
    "# Create a bar plot of the mean values for each variable\n",
    "fig, ax = plt.subplots(figsize=(12, 8))  # Set the figure size\n",
    "df_grouped.plot(kind='bar', ax=ax)  # Use the ax parameter to specify the axes object\n",
    "\n",
    "# Set the plot title and axis labels\n",
    "ax.set_title('Mean Values of Maternal Care Variables by Region')\n",
    "ax.set_xlabel('Maternal Region')\n",
    "ax.set_ylabel('Mean Value')\n",
    "\n",
    "# Show the plot\n",
    "plt.show()\n"
   ]
  },
  {
   "cell_type": "code",
   "execution_count": 169,
   "metadata": {},
   "outputs": [
    {
     "data": {
      "text/plain": [
       "array(['Medicaid for Pregnant Women', 'Other Aid Categories',\n",
       "       'FAMIS MOMS', 'Medicaid Expansion', 'Not Enrolled'], dtype=object)"
      ]
     },
     "execution_count": 169,
     "metadata": {},
     "output_type": "execute_result"
    }
   ],
   "source": [
    "df['Medicaid_Program'].unique()"
   ]
  },
  {
   "cell_type": "markdown",
   "metadata": {},
   "source": [
    "# Medicad program variable \n",
    "\n",
    "<li> 'Medicaid for Pregnant Women': 0,\n",
    "<li> 'Other Aid Categories': 1,\n",
    "<li> 'FAMIS MOMS': 2,\n",
    "<li> 'Medicaid Expansion': 3,\n",
    "<li> 'Not Enrolled': 4"
   ]
  },
  {
   "cell_type": "code",
   "execution_count": 170,
   "metadata": {},
   "outputs": [
    {
     "name": "stderr",
     "output_type": "stream",
     "text": [
      "/var/folders/rp/_9dmf8c92tl122d82xm7kvth0000gn/T/ipykernel_16610/3797242378.py:8: SettingWithCopyWarning: \n",
      "A value is trying to be set on a copy of a slice from a DataFrame.\n",
      "Try using .loc[row_indexer,col_indexer] = value instead\n",
      "\n",
      "See the caveats in the documentation: https://pandas.pydata.org/pandas-docs/stable/user_guide/indexing.html#returning-a-view-versus-a-copy\n",
      "  df['Medicaid_Program'] = df['Medicaid_Program'].replace(medicaid_program_mapping)\n"
     ]
    }
   ],
   "source": [
    "medicaid_program_mapping = {\n",
    "    'Medicaid for Pregnant Women': 0,\n",
    "    'Other Aid Categories': 1,\n",
    "    'FAMIS MOMS': 2,\n",
    "    'Medicaid Expansion': 3,\n",
    "    'Not Enrolled': 4\n",
    "}\n",
    "df['Medicaid_Program'] = df['Medicaid_Program'].replace(medicaid_program_mapping)\n"
   ]
  },
  {
   "cell_type": "code",
   "execution_count": 171,
   "metadata": {},
   "outputs": [
    {
     "data": {
      "text/html": [
       "<div>\n",
       "<style scoped>\n",
       "    .dataframe tbody tr th:only-of-type {\n",
       "        vertical-align: middle;\n",
       "    }\n",
       "\n",
       "    .dataframe tbody tr th {\n",
       "        vertical-align: top;\n",
       "    }\n",
       "\n",
       "    .dataframe thead th {\n",
       "        text-align: right;\n",
       "    }\n",
       "</style>\n",
       "<table border=\"1\" class=\"dataframe\">\n",
       "  <thead>\n",
       "    <tr style=\"text-align: right;\">\n",
       "      <th></th>\n",
       "      <th>Medicaid_Program</th>\n",
       "      <th>Maternal_Region</th>\n",
       "      <th>Population_Group</th>\n",
       "      <th>MCO_COUNT</th>\n",
       "      <th>Cont_Enroll_Category</th>\n",
       "      <th>PNC_Index</th>\n",
       "      <th>Prenatal_SBIRT</th>\n",
       "      <th>Postpartum_SBIRT</th>\n",
       "      <th>Prenatal_DepScr</th>\n",
       "    </tr>\n",
       "  </thead>\n",
       "  <tbody>\n",
       "    <tr>\n",
       "      <th>0</th>\n",
       "      <td>0</td>\n",
       "      <td>Tidewater</td>\n",
       "      <td>Comparison Group</td>\n",
       "      <td>Not enrolled with an MCO prior to delivery (e....</td>\n",
       "      <td>Enrolled for less than or equal to 30 days pri...</td>\n",
       "      <td>Adequate Plus PNC</td>\n",
       "      <td>False</td>\n",
       "      <td>False</td>\n",
       "      <td>False</td>\n",
       "    </tr>\n",
       "    <tr>\n",
       "      <th>1</th>\n",
       "      <td>0</td>\n",
       "      <td>Tidewater</td>\n",
       "      <td>Comparison Group</td>\n",
       "      <td>Not enrolled with an MCO prior to delivery (e....</td>\n",
       "      <td>Enrolled for less than or equal to 30 days pri...</td>\n",
       "      <td>Inadequate PNC</td>\n",
       "      <td>False</td>\n",
       "      <td>False</td>\n",
       "      <td>False</td>\n",
       "    </tr>\n",
       "    <tr>\n",
       "      <th>3</th>\n",
       "      <td>1</td>\n",
       "      <td>Tidewater</td>\n",
       "      <td>Comparison Group</td>\n",
       "      <td>Enrolled with one MCO prior to delivery</td>\n",
       "      <td>Enrolled for 31 to 90 days prior to delivery</td>\n",
       "      <td>Adequate PNC</td>\n",
       "      <td>False</td>\n",
       "      <td>False</td>\n",
       "      <td>True</td>\n",
       "    </tr>\n",
       "    <tr>\n",
       "      <th>4</th>\n",
       "      <td>0</td>\n",
       "      <td>Tidewater</td>\n",
       "      <td>Comparison Group</td>\n",
       "      <td>Not enrolled with an MCO prior to delivery (e....</td>\n",
       "      <td>Enrolled for 91 to 180 days prior to delivery</td>\n",
       "      <td>Adequate PNC</td>\n",
       "      <td>False</td>\n",
       "      <td>False</td>\n",
       "      <td>False</td>\n",
       "    </tr>\n",
       "    <tr>\n",
       "      <th>6</th>\n",
       "      <td>2</td>\n",
       "      <td>Charlottesville/Western</td>\n",
       "      <td>Comparison Group</td>\n",
       "      <td>Enrolled with one MCO prior to delivery</td>\n",
       "      <td>Enrolled for 91 to 180 days prior to delivery</td>\n",
       "      <td>Adequate Plus PNC</td>\n",
       "      <td>False</td>\n",
       "      <td>False</td>\n",
       "      <td>False</td>\n",
       "    </tr>\n",
       "    <tr>\n",
       "      <th>...</th>\n",
       "      <td>...</td>\n",
       "      <td>...</td>\n",
       "      <td>...</td>\n",
       "      <td>...</td>\n",
       "      <td>...</td>\n",
       "      <td>...</td>\n",
       "      <td>...</td>\n",
       "      <td>...</td>\n",
       "      <td>...</td>\n",
       "    </tr>\n",
       "    <tr>\n",
       "      <th>34394</th>\n",
       "      <td>3</td>\n",
       "      <td>Tidewater</td>\n",
       "      <td>Study Population</td>\n",
       "      <td>Enrolled with one MCO prior to delivery</td>\n",
       "      <td>Enrolled for more than 180 days prior to delivery</td>\n",
       "      <td>Inadequate PNC</td>\n",
       "      <td>False</td>\n",
       "      <td>False</td>\n",
       "      <td>False</td>\n",
       "    </tr>\n",
       "    <tr>\n",
       "      <th>34395</th>\n",
       "      <td>0</td>\n",
       "      <td>Central</td>\n",
       "      <td>Study Population</td>\n",
       "      <td>Enrolled with one MCO prior to delivery</td>\n",
       "      <td>Enrolled for more than 180 days prior to delivery</td>\n",
       "      <td>Adequate PNC</td>\n",
       "      <td>False</td>\n",
       "      <td>False</td>\n",
       "      <td>False</td>\n",
       "    </tr>\n",
       "    <tr>\n",
       "      <th>34396</th>\n",
       "      <td>2</td>\n",
       "      <td>Tidewater</td>\n",
       "      <td>Study Population</td>\n",
       "      <td>Enrolled with one MCO prior to delivery</td>\n",
       "      <td>Enrolled for 91 to 180 days prior to delivery</td>\n",
       "      <td>Inadequate PNC</td>\n",
       "      <td>False</td>\n",
       "      <td>False</td>\n",
       "      <td>False</td>\n",
       "    </tr>\n",
       "    <tr>\n",
       "      <th>34398</th>\n",
       "      <td>0</td>\n",
       "      <td>Roanoke/Alleghany</td>\n",
       "      <td>Study Population</td>\n",
       "      <td>Enrolled with one MCO prior to delivery</td>\n",
       "      <td>Enrolled for more than 180 days prior to delivery</td>\n",
       "      <td>Adequate PNC</td>\n",
       "      <td>False</td>\n",
       "      <td>False</td>\n",
       "      <td>False</td>\n",
       "    </tr>\n",
       "    <tr>\n",
       "      <th>34400</th>\n",
       "      <td>0</td>\n",
       "      <td>Central</td>\n",
       "      <td>Study Population</td>\n",
       "      <td>Enrolled with more than one MCO prior to delivery</td>\n",
       "      <td>Enrolled for more than 180 days prior to delivery</td>\n",
       "      <td>Adequate PNC</td>\n",
       "      <td>False</td>\n",
       "      <td>False</td>\n",
       "      <td>False</td>\n",
       "    </tr>\n",
       "  </tbody>\n",
       "</table>\n",
       "<p>26164 rows × 9 columns</p>\n",
       "</div>"
      ],
      "text/plain": [
       "       Medicaid_Program          Maternal_Region  Population_Group  \\\n",
       "0                     0                Tidewater  Comparison Group   \n",
       "1                     0                Tidewater  Comparison Group   \n",
       "3                     1                Tidewater  Comparison Group   \n",
       "4                     0                Tidewater  Comparison Group   \n",
       "6                     2  Charlottesville/Western  Comparison Group   \n",
       "...                 ...                      ...               ...   \n",
       "34394                 3                Tidewater  Study Population   \n",
       "34395                 0                  Central  Study Population   \n",
       "34396                 2                Tidewater  Study Population   \n",
       "34398                 0        Roanoke/Alleghany  Study Population   \n",
       "34400                 0                  Central  Study Population   \n",
       "\n",
       "                                               MCO_COUNT  \\\n",
       "0      Not enrolled with an MCO prior to delivery (e....   \n",
       "1      Not enrolled with an MCO prior to delivery (e....   \n",
       "3                Enrolled with one MCO prior to delivery   \n",
       "4      Not enrolled with an MCO prior to delivery (e....   \n",
       "6                Enrolled with one MCO prior to delivery   \n",
       "...                                                  ...   \n",
       "34394            Enrolled with one MCO prior to delivery   \n",
       "34395            Enrolled with one MCO prior to delivery   \n",
       "34396            Enrolled with one MCO prior to delivery   \n",
       "34398            Enrolled with one MCO prior to delivery   \n",
       "34400  Enrolled with more than one MCO prior to delivery   \n",
       "\n",
       "                                    Cont_Enroll_Category          PNC_Index  \\\n",
       "0      Enrolled for less than or equal to 30 days pri...  Adequate Plus PNC   \n",
       "1      Enrolled for less than or equal to 30 days pri...     Inadequate PNC   \n",
       "3           Enrolled for 31 to 90 days prior to delivery       Adequate PNC   \n",
       "4          Enrolled for 91 to 180 days prior to delivery       Adequate PNC   \n",
       "6          Enrolled for 91 to 180 days prior to delivery  Adequate Plus PNC   \n",
       "...                                                  ...                ...   \n",
       "34394  Enrolled for more than 180 days prior to delivery     Inadequate PNC   \n",
       "34395  Enrolled for more than 180 days prior to delivery       Adequate PNC   \n",
       "34396      Enrolled for 91 to 180 days prior to delivery     Inadequate PNC   \n",
       "34398  Enrolled for more than 180 days prior to delivery       Adequate PNC   \n",
       "34400  Enrolled for more than 180 days prior to delivery       Adequate PNC   \n",
       "\n",
       "       Prenatal_SBIRT  Postpartum_SBIRT  Prenatal_DepScr  \n",
       "0               False             False            False  \n",
       "1               False             False            False  \n",
       "3               False             False             True  \n",
       "4               False             False            False  \n",
       "6               False             False            False  \n",
       "...               ...               ...              ...  \n",
       "34394           False             False            False  \n",
       "34395           False             False            False  \n",
       "34396           False             False            False  \n",
       "34398           False             False            False  \n",
       "34400           False             False            False  \n",
       "\n",
       "[26164 rows x 9 columns]"
      ]
     },
     "execution_count": 171,
     "metadata": {},
     "output_type": "execute_result"
    }
   ],
   "source": [
    "df"
   ]
  },
  {
   "cell_type": "markdown",
   "metadata": {},
   "source": [
    "# Cont_Enroll_Category variable \n",
    "<li> 'Enrolled for less than or equal to 30 days prior to delivery': 0,\n",
    "<li> 'Enrolled for 31 to 90 days prior to delivery': 1,\n",
    "<li> 'Enrolled for 91 to 180 days prior to delivery': 2,\n",
    "<li> 'Not continuously enrolled prior to delivery': 3,\n",
    "<li> 'Enrolled for more than 180 days prior to delivery': 4"
   ]
  },
  {
   "cell_type": "code",
   "execution_count": 172,
   "metadata": {},
   "outputs": [
    {
     "name": "stderr",
     "output_type": "stream",
     "text": [
      "/var/folders/rp/_9dmf8c92tl122d82xm7kvth0000gn/T/ipykernel_16610/3218459801.py:8: SettingWithCopyWarning: \n",
      "A value is trying to be set on a copy of a slice from a DataFrame.\n",
      "Try using .loc[row_indexer,col_indexer] = value instead\n",
      "\n",
      "See the caveats in the documentation: https://pandas.pydata.org/pandas-docs/stable/user_guide/indexing.html#returning-a-view-versus-a-copy\n",
      "  df['Cont_Enroll_Category'] = df['Cont_Enroll_Category'].replace(cont_enroll_mapping)\n"
     ]
    }
   ],
   "source": [
    "cont_enroll_mapping = {\n",
    "    'Enrolled for less than or equal to 30 days prior to delivery': 0,\n",
    "    'Enrolled for 31 to 90 days prior to delivery': 1,\n",
    "    'Enrolled for 91 to 180 days prior to delivery': 2,\n",
    "    'Not continuously enrolled prior to delivery': 3,\n",
    "    'Enrolled for more than 180 days prior to delivery': 4\n",
    "}\n",
    "df['Cont_Enroll_Category'] = df['Cont_Enroll_Category'].replace(cont_enroll_mapping)\n"
   ]
  },
  {
   "cell_type": "code",
   "execution_count": 173,
   "metadata": {},
   "outputs": [
    {
     "data": {
      "text/html": [
       "<div>\n",
       "<style scoped>\n",
       "    .dataframe tbody tr th:only-of-type {\n",
       "        vertical-align: middle;\n",
       "    }\n",
       "\n",
       "    .dataframe tbody tr th {\n",
       "        vertical-align: top;\n",
       "    }\n",
       "\n",
       "    .dataframe thead th {\n",
       "        text-align: right;\n",
       "    }\n",
       "</style>\n",
       "<table border=\"1\" class=\"dataframe\">\n",
       "  <thead>\n",
       "    <tr style=\"text-align: right;\">\n",
       "      <th></th>\n",
       "      <th>Medicaid_Program</th>\n",
       "      <th>Maternal_Region</th>\n",
       "      <th>Population_Group</th>\n",
       "      <th>MCO_COUNT</th>\n",
       "      <th>Cont_Enroll_Category</th>\n",
       "      <th>PNC_Index</th>\n",
       "      <th>Prenatal_SBIRT</th>\n",
       "      <th>Postpartum_SBIRT</th>\n",
       "      <th>Prenatal_DepScr</th>\n",
       "    </tr>\n",
       "  </thead>\n",
       "  <tbody>\n",
       "    <tr>\n",
       "      <th>0</th>\n",
       "      <td>0</td>\n",
       "      <td>Tidewater</td>\n",
       "      <td>Comparison Group</td>\n",
       "      <td>Not enrolled with an MCO prior to delivery (e....</td>\n",
       "      <td>0</td>\n",
       "      <td>Adequate Plus PNC</td>\n",
       "      <td>False</td>\n",
       "      <td>False</td>\n",
       "      <td>False</td>\n",
       "    </tr>\n",
       "    <tr>\n",
       "      <th>1</th>\n",
       "      <td>0</td>\n",
       "      <td>Tidewater</td>\n",
       "      <td>Comparison Group</td>\n",
       "      <td>Not enrolled with an MCO prior to delivery (e....</td>\n",
       "      <td>0</td>\n",
       "      <td>Inadequate PNC</td>\n",
       "      <td>False</td>\n",
       "      <td>False</td>\n",
       "      <td>False</td>\n",
       "    </tr>\n",
       "    <tr>\n",
       "      <th>3</th>\n",
       "      <td>1</td>\n",
       "      <td>Tidewater</td>\n",
       "      <td>Comparison Group</td>\n",
       "      <td>Enrolled with one MCO prior to delivery</td>\n",
       "      <td>1</td>\n",
       "      <td>Adequate PNC</td>\n",
       "      <td>False</td>\n",
       "      <td>False</td>\n",
       "      <td>True</td>\n",
       "    </tr>\n",
       "    <tr>\n",
       "      <th>4</th>\n",
       "      <td>0</td>\n",
       "      <td>Tidewater</td>\n",
       "      <td>Comparison Group</td>\n",
       "      <td>Not enrolled with an MCO prior to delivery (e....</td>\n",
       "      <td>2</td>\n",
       "      <td>Adequate PNC</td>\n",
       "      <td>False</td>\n",
       "      <td>False</td>\n",
       "      <td>False</td>\n",
       "    </tr>\n",
       "    <tr>\n",
       "      <th>6</th>\n",
       "      <td>2</td>\n",
       "      <td>Charlottesville/Western</td>\n",
       "      <td>Comparison Group</td>\n",
       "      <td>Enrolled with one MCO prior to delivery</td>\n",
       "      <td>2</td>\n",
       "      <td>Adequate Plus PNC</td>\n",
       "      <td>False</td>\n",
       "      <td>False</td>\n",
       "      <td>False</td>\n",
       "    </tr>\n",
       "  </tbody>\n",
       "</table>\n",
       "</div>"
      ],
      "text/plain": [
       "   Medicaid_Program          Maternal_Region  Population_Group  \\\n",
       "0                 0                Tidewater  Comparison Group   \n",
       "1                 0                Tidewater  Comparison Group   \n",
       "3                 1                Tidewater  Comparison Group   \n",
       "4                 0                Tidewater  Comparison Group   \n",
       "6                 2  Charlottesville/Western  Comparison Group   \n",
       "\n",
       "                                           MCO_COUNT  Cont_Enroll_Category  \\\n",
       "0  Not enrolled with an MCO prior to delivery (e....                     0   \n",
       "1  Not enrolled with an MCO prior to delivery (e....                     0   \n",
       "3            Enrolled with one MCO prior to delivery                     1   \n",
       "4  Not enrolled with an MCO prior to delivery (e....                     2   \n",
       "6            Enrolled with one MCO prior to delivery                     2   \n",
       "\n",
       "           PNC_Index  Prenatal_SBIRT  Postpartum_SBIRT  Prenatal_DepScr  \n",
       "0  Adequate Plus PNC           False             False            False  \n",
       "1     Inadequate PNC           False             False            False  \n",
       "3       Adequate PNC           False             False             True  \n",
       "4       Adequate PNC           False             False            False  \n",
       "6  Adequate Plus PNC           False             False            False  "
      ]
     },
     "execution_count": 173,
     "metadata": {},
     "output_type": "execute_result"
    }
   ],
   "source": [
    "df.head()\n"
   ]
  },
  {
   "cell_type": "markdown",
   "metadata": {},
   "source": [
    "# PNC_Index\n",
    "<li>'Adequate Plus PNC': 4,\n",
    "<li>'Adequate PNC': 3,\n",
    "<li>'Intermediate PNC': 2,\n",
    "<li>'Inadequate PNC': 1,\n",
    "<li>'Births with No Prenatal Care': 0,"
   ]
  },
  {
   "cell_type": "code",
   "execution_count": 174,
   "metadata": {},
   "outputs": [
    {
     "name": "stderr",
     "output_type": "stream",
     "text": [
      "/var/folders/rp/_9dmf8c92tl122d82xm7kvth0000gn/T/ipykernel_16610/785918665.py:8: SettingWithCopyWarning: \n",
      "A value is trying to be set on a copy of a slice from a DataFrame.\n",
      "Try using .loc[row_indexer,col_indexer] = value instead\n",
      "\n",
      "See the caveats in the documentation: https://pandas.pydata.org/pandas-docs/stable/user_guide/indexing.html#returning-a-view-versus-a-copy\n",
      "  df['PNC_Index'] = df['PNC_Index'].replace(pnc_mapping)\n"
     ]
    }
   ],
   "source": [
    "pnc_mapping = {\n",
    "    'Adequate Plus PNC': 4,\n",
    "    'Adequate PNC': 3,\n",
    "    'Intermediate PNC': 2,\n",
    "    'Inadequate PNC': 1,\n",
    "    'Births with No Prenatal Care': 0,\n",
    "}\n",
    "df['PNC_Index'] = df['PNC_Index'].replace(pnc_mapping)\n",
    "\n",
    "# Group the data by 'PNC_Index' and calculate the percentage of records in each group\n",
    "pnc_percentages = df.groupby('PNC_Index').size().div(len(df)).mul(100)"
   ]
  },
  {
   "cell_type": "code",
   "execution_count": 175,
   "metadata": {},
   "outputs": [
    {
     "data": {
      "text/html": [
       "<div>\n",
       "<style scoped>\n",
       "    .dataframe tbody tr th:only-of-type {\n",
       "        vertical-align: middle;\n",
       "    }\n",
       "\n",
       "    .dataframe tbody tr th {\n",
       "        vertical-align: top;\n",
       "    }\n",
       "\n",
       "    .dataframe thead th {\n",
       "        text-align: right;\n",
       "    }\n",
       "</style>\n",
       "<table border=\"1\" class=\"dataframe\">\n",
       "  <thead>\n",
       "    <tr style=\"text-align: right;\">\n",
       "      <th></th>\n",
       "      <th>Medicaid_Program</th>\n",
       "      <th>Maternal_Region</th>\n",
       "      <th>Population_Group</th>\n",
       "      <th>MCO_COUNT</th>\n",
       "      <th>Cont_Enroll_Category</th>\n",
       "      <th>PNC_Index</th>\n",
       "      <th>Prenatal_SBIRT</th>\n",
       "      <th>Postpartum_SBIRT</th>\n",
       "      <th>Prenatal_DepScr</th>\n",
       "    </tr>\n",
       "  </thead>\n",
       "  <tbody>\n",
       "    <tr>\n",
       "      <th>0</th>\n",
       "      <td>0</td>\n",
       "      <td>Tidewater</td>\n",
       "      <td>Comparison Group</td>\n",
       "      <td>Not enrolled with an MCO prior to delivery (e....</td>\n",
       "      <td>0</td>\n",
       "      <td>4</td>\n",
       "      <td>False</td>\n",
       "      <td>False</td>\n",
       "      <td>False</td>\n",
       "    </tr>\n",
       "    <tr>\n",
       "      <th>1</th>\n",
       "      <td>0</td>\n",
       "      <td>Tidewater</td>\n",
       "      <td>Comparison Group</td>\n",
       "      <td>Not enrolled with an MCO prior to delivery (e....</td>\n",
       "      <td>0</td>\n",
       "      <td>1</td>\n",
       "      <td>False</td>\n",
       "      <td>False</td>\n",
       "      <td>False</td>\n",
       "    </tr>\n",
       "    <tr>\n",
       "      <th>3</th>\n",
       "      <td>1</td>\n",
       "      <td>Tidewater</td>\n",
       "      <td>Comparison Group</td>\n",
       "      <td>Enrolled with one MCO prior to delivery</td>\n",
       "      <td>1</td>\n",
       "      <td>3</td>\n",
       "      <td>False</td>\n",
       "      <td>False</td>\n",
       "      <td>True</td>\n",
       "    </tr>\n",
       "    <tr>\n",
       "      <th>4</th>\n",
       "      <td>0</td>\n",
       "      <td>Tidewater</td>\n",
       "      <td>Comparison Group</td>\n",
       "      <td>Not enrolled with an MCO prior to delivery (e....</td>\n",
       "      <td>2</td>\n",
       "      <td>3</td>\n",
       "      <td>False</td>\n",
       "      <td>False</td>\n",
       "      <td>False</td>\n",
       "    </tr>\n",
       "    <tr>\n",
       "      <th>6</th>\n",
       "      <td>2</td>\n",
       "      <td>Charlottesville/Western</td>\n",
       "      <td>Comparison Group</td>\n",
       "      <td>Enrolled with one MCO prior to delivery</td>\n",
       "      <td>2</td>\n",
       "      <td>4</td>\n",
       "      <td>False</td>\n",
       "      <td>False</td>\n",
       "      <td>False</td>\n",
       "    </tr>\n",
       "  </tbody>\n",
       "</table>\n",
       "</div>"
      ],
      "text/plain": [
       "   Medicaid_Program          Maternal_Region  Population_Group  \\\n",
       "0                 0                Tidewater  Comparison Group   \n",
       "1                 0                Tidewater  Comparison Group   \n",
       "3                 1                Tidewater  Comparison Group   \n",
       "4                 0                Tidewater  Comparison Group   \n",
       "6                 2  Charlottesville/Western  Comparison Group   \n",
       "\n",
       "                                           MCO_COUNT  Cont_Enroll_Category  \\\n",
       "0  Not enrolled with an MCO prior to delivery (e....                     0   \n",
       "1  Not enrolled with an MCO prior to delivery (e....                     0   \n",
       "3            Enrolled with one MCO prior to delivery                     1   \n",
       "4  Not enrolled with an MCO prior to delivery (e....                     2   \n",
       "6            Enrolled with one MCO prior to delivery                     2   \n",
       "\n",
       "  PNC_Index  Prenatal_SBIRT  Postpartum_SBIRT  Prenatal_DepScr  \n",
       "0         4           False             False            False  \n",
       "1         1           False             False            False  \n",
       "3         3           False             False             True  \n",
       "4         3           False             False            False  \n",
       "6         4           False             False            False  "
      ]
     },
     "execution_count": 175,
     "metadata": {},
     "output_type": "execute_result"
    }
   ],
   "source": [
    "df.head()"
   ]
  },
  {
   "cell_type": "code",
   "execution_count": 176,
   "metadata": {},
   "outputs": [
    {
     "name": "stdout",
     "output_type": "stream",
     "text": [
      "<class 'pandas.core.frame.DataFrame'>\n",
      "Int64Index: 26164 entries, 0 to 34400\n",
      "Data columns (total 9 columns):\n",
      " #   Column                Non-Null Count  Dtype \n",
      "---  ------                --------------  ----- \n",
      " 0   Medicaid_Program      26164 non-null  int64 \n",
      " 1   Maternal_Region       26164 non-null  object\n",
      " 2   Population_Group      26164 non-null  object\n",
      " 3   MCO_COUNT             26164 non-null  object\n",
      " 4   Cont_Enroll_Category  26164 non-null  int64 \n",
      " 5   PNC_Index             26164 non-null  object\n",
      " 6   Prenatal_SBIRT        26164 non-null  bool  \n",
      " 7   Postpartum_SBIRT      26164 non-null  bool  \n",
      " 8   Prenatal_DepScr       26164 non-null  bool  \n",
      "dtypes: bool(3), int64(2), object(4)\n",
      "memory usage: 1.5+ MB\n"
     ]
    }
   ],
   "source": [
    "df.info()"
   ]
  },
  {
   "cell_type": "markdown",
   "metadata": {},
   "source": [
    "# Prenatal_SBIRT, Postpartum_SBIRT, Prenatal_DepScr\n",
    "<li> False = 0\n",
    "<li> True = 1"
   ]
  },
  {
   "cell_type": "code",
   "execution_count": 177,
   "metadata": {},
   "outputs": [
    {
     "name": "stderr",
     "output_type": "stream",
     "text": [
      "/var/folders/rp/_9dmf8c92tl122d82xm7kvth0000gn/T/ipykernel_16610/1951513099.py:1: SettingWithCopyWarning: \n",
      "A value is trying to be set on a copy of a slice from a DataFrame.\n",
      "Try using .loc[row_indexer,col_indexer] = value instead\n",
      "\n",
      "See the caveats in the documentation: https://pandas.pydata.org/pandas-docs/stable/user_guide/indexing.html#returning-a-view-versus-a-copy\n",
      "  df['Prenatal_SBIRT'] = df['Prenatal_SBIRT'].astype(int)\n",
      "/var/folders/rp/_9dmf8c92tl122d82xm7kvth0000gn/T/ipykernel_16610/1951513099.py:2: SettingWithCopyWarning: \n",
      "A value is trying to be set on a copy of a slice from a DataFrame.\n",
      "Try using .loc[row_indexer,col_indexer] = value instead\n",
      "\n",
      "See the caveats in the documentation: https://pandas.pydata.org/pandas-docs/stable/user_guide/indexing.html#returning-a-view-versus-a-copy\n",
      "  df['Postpartum_SBIRT'] = df['Postpartum_SBIRT'].astype(int)\n",
      "/var/folders/rp/_9dmf8c92tl122d82xm7kvth0000gn/T/ipykernel_16610/1951513099.py:3: SettingWithCopyWarning: \n",
      "A value is trying to be set on a copy of a slice from a DataFrame.\n",
      "Try using .loc[row_indexer,col_indexer] = value instead\n",
      "\n",
      "See the caveats in the documentation: https://pandas.pydata.org/pandas-docs/stable/user_guide/indexing.html#returning-a-view-versus-a-copy\n",
      "  df['Prenatal_DepScr'] = df['Prenatal_DepScr'].astype(int)\n"
     ]
    }
   ],
   "source": [
    "df['Prenatal_SBIRT'] = df['Prenatal_SBIRT'].astype(int)\n",
    "df['Postpartum_SBIRT'] = df['Postpartum_SBIRT'].astype(int)\n",
    "df['Prenatal_DepScr'] = df['Prenatal_DepScr'].astype(int)\n"
   ]
  },
  {
   "cell_type": "code",
   "execution_count": 178,
   "metadata": {},
   "outputs": [
    {
     "data": {
      "text/html": [
       "<div>\n",
       "<style scoped>\n",
       "    .dataframe tbody tr th:only-of-type {\n",
       "        vertical-align: middle;\n",
       "    }\n",
       "\n",
       "    .dataframe tbody tr th {\n",
       "        vertical-align: top;\n",
       "    }\n",
       "\n",
       "    .dataframe thead th {\n",
       "        text-align: right;\n",
       "    }\n",
       "</style>\n",
       "<table border=\"1\" class=\"dataframe\">\n",
       "  <thead>\n",
       "    <tr style=\"text-align: right;\">\n",
       "      <th></th>\n",
       "      <th>Medicaid_Program</th>\n",
       "      <th>Maternal_Region</th>\n",
       "      <th>Population_Group</th>\n",
       "      <th>MCO_COUNT</th>\n",
       "      <th>Cont_Enroll_Category</th>\n",
       "      <th>PNC_Index</th>\n",
       "      <th>Prenatal_SBIRT</th>\n",
       "      <th>Postpartum_SBIRT</th>\n",
       "      <th>Prenatal_DepScr</th>\n",
       "    </tr>\n",
       "  </thead>\n",
       "  <tbody>\n",
       "    <tr>\n",
       "      <th>0</th>\n",
       "      <td>0</td>\n",
       "      <td>Tidewater</td>\n",
       "      <td>Comparison Group</td>\n",
       "      <td>Not enrolled with an MCO prior to delivery (e....</td>\n",
       "      <td>0</td>\n",
       "      <td>4</td>\n",
       "      <td>0</td>\n",
       "      <td>0</td>\n",
       "      <td>0</td>\n",
       "    </tr>\n",
       "    <tr>\n",
       "      <th>1</th>\n",
       "      <td>0</td>\n",
       "      <td>Tidewater</td>\n",
       "      <td>Comparison Group</td>\n",
       "      <td>Not enrolled with an MCO prior to delivery (e....</td>\n",
       "      <td>0</td>\n",
       "      <td>1</td>\n",
       "      <td>0</td>\n",
       "      <td>0</td>\n",
       "      <td>0</td>\n",
       "    </tr>\n",
       "    <tr>\n",
       "      <th>3</th>\n",
       "      <td>1</td>\n",
       "      <td>Tidewater</td>\n",
       "      <td>Comparison Group</td>\n",
       "      <td>Enrolled with one MCO prior to delivery</td>\n",
       "      <td>1</td>\n",
       "      <td>3</td>\n",
       "      <td>0</td>\n",
       "      <td>0</td>\n",
       "      <td>1</td>\n",
       "    </tr>\n",
       "    <tr>\n",
       "      <th>4</th>\n",
       "      <td>0</td>\n",
       "      <td>Tidewater</td>\n",
       "      <td>Comparison Group</td>\n",
       "      <td>Not enrolled with an MCO prior to delivery (e....</td>\n",
       "      <td>2</td>\n",
       "      <td>3</td>\n",
       "      <td>0</td>\n",
       "      <td>0</td>\n",
       "      <td>0</td>\n",
       "    </tr>\n",
       "    <tr>\n",
       "      <th>6</th>\n",
       "      <td>2</td>\n",
       "      <td>Charlottesville/Western</td>\n",
       "      <td>Comparison Group</td>\n",
       "      <td>Enrolled with one MCO prior to delivery</td>\n",
       "      <td>2</td>\n",
       "      <td>4</td>\n",
       "      <td>0</td>\n",
       "      <td>0</td>\n",
       "      <td>0</td>\n",
       "    </tr>\n",
       "  </tbody>\n",
       "</table>\n",
       "</div>"
      ],
      "text/plain": [
       "   Medicaid_Program          Maternal_Region  Population_Group  \\\n",
       "0                 0                Tidewater  Comparison Group   \n",
       "1                 0                Tidewater  Comparison Group   \n",
       "3                 1                Tidewater  Comparison Group   \n",
       "4                 0                Tidewater  Comparison Group   \n",
       "6                 2  Charlottesville/Western  Comparison Group   \n",
       "\n",
       "                                           MCO_COUNT  Cont_Enroll_Category  \\\n",
       "0  Not enrolled with an MCO prior to delivery (e....                     0   \n",
       "1  Not enrolled with an MCO prior to delivery (e....                     0   \n",
       "3            Enrolled with one MCO prior to delivery                     1   \n",
       "4  Not enrolled with an MCO prior to delivery (e....                     2   \n",
       "6            Enrolled with one MCO prior to delivery                     2   \n",
       "\n",
       "  PNC_Index  Prenatal_SBIRT  Postpartum_SBIRT  Prenatal_DepScr  \n",
       "0         4               0                 0                0  \n",
       "1         1               0                 0                0  \n",
       "3         3               0                 0                1  \n",
       "4         3               0                 0                0  \n",
       "6         4               0                 0                0  "
      ]
     },
     "execution_count": 178,
     "metadata": {},
     "output_type": "execute_result"
    }
   ],
   "source": [
    "df.head()"
   ]
  },
  {
   "cell_type": "markdown",
   "metadata": {},
   "source": [
    "# Population_Group\n",
    "<li>'Comparison Group': 0,\n",
    "<li>'Study Population': 1,"
   ]
  },
  {
   "cell_type": "code",
   "execution_count": 179,
   "metadata": {},
   "outputs": [
    {
     "name": "stderr",
     "output_type": "stream",
     "text": [
      "/var/folders/rp/_9dmf8c92tl122d82xm7kvth0000gn/T/ipykernel_16610/1722226936.py:6: SettingWithCopyWarning: \n",
      "A value is trying to be set on a copy of a slice from a DataFrame.\n",
      "Try using .loc[row_indexer,col_indexer] = value instead\n",
      "\n",
      "See the caveats in the documentation: https://pandas.pydata.org/pandas-docs/stable/user_guide/indexing.html#returning-a-view-versus-a-copy\n",
      "  df['Population_Group'] = df['Population_Group'].map(pop_group_mapping)\n"
     ]
    }
   ],
   "source": [
    "pop_group_mapping = {\n",
    "    'Comparison Group': 0,\n",
    "    'Study Population': 1,\n",
    "}\n",
    "\n",
    "df['Population_Group'] = df['Population_Group'].map(pop_group_mapping)\n"
   ]
  },
  {
   "cell_type": "code",
   "execution_count": 180,
   "metadata": {},
   "outputs": [
    {
     "data": {
      "text/html": [
       "<div>\n",
       "<style scoped>\n",
       "    .dataframe tbody tr th:only-of-type {\n",
       "        vertical-align: middle;\n",
       "    }\n",
       "\n",
       "    .dataframe tbody tr th {\n",
       "        vertical-align: top;\n",
       "    }\n",
       "\n",
       "    .dataframe thead th {\n",
       "        text-align: right;\n",
       "    }\n",
       "</style>\n",
       "<table border=\"1\" class=\"dataframe\">\n",
       "  <thead>\n",
       "    <tr style=\"text-align: right;\">\n",
       "      <th></th>\n",
       "      <th>Medicaid_Program</th>\n",
       "      <th>Maternal_Region</th>\n",
       "      <th>Population_Group</th>\n",
       "      <th>MCO_COUNT</th>\n",
       "      <th>Cont_Enroll_Category</th>\n",
       "      <th>PNC_Index</th>\n",
       "      <th>Prenatal_SBIRT</th>\n",
       "      <th>Postpartum_SBIRT</th>\n",
       "      <th>Prenatal_DepScr</th>\n",
       "    </tr>\n",
       "  </thead>\n",
       "  <tbody>\n",
       "    <tr>\n",
       "      <th>0</th>\n",
       "      <td>0</td>\n",
       "      <td>Tidewater</td>\n",
       "      <td>0</td>\n",
       "      <td>Not enrolled with an MCO prior to delivery (e....</td>\n",
       "      <td>0</td>\n",
       "      <td>4</td>\n",
       "      <td>0</td>\n",
       "      <td>0</td>\n",
       "      <td>0</td>\n",
       "    </tr>\n",
       "    <tr>\n",
       "      <th>1</th>\n",
       "      <td>0</td>\n",
       "      <td>Tidewater</td>\n",
       "      <td>0</td>\n",
       "      <td>Not enrolled with an MCO prior to delivery (e....</td>\n",
       "      <td>0</td>\n",
       "      <td>1</td>\n",
       "      <td>0</td>\n",
       "      <td>0</td>\n",
       "      <td>0</td>\n",
       "    </tr>\n",
       "    <tr>\n",
       "      <th>3</th>\n",
       "      <td>1</td>\n",
       "      <td>Tidewater</td>\n",
       "      <td>0</td>\n",
       "      <td>Enrolled with one MCO prior to delivery</td>\n",
       "      <td>1</td>\n",
       "      <td>3</td>\n",
       "      <td>0</td>\n",
       "      <td>0</td>\n",
       "      <td>1</td>\n",
       "    </tr>\n",
       "    <tr>\n",
       "      <th>4</th>\n",
       "      <td>0</td>\n",
       "      <td>Tidewater</td>\n",
       "      <td>0</td>\n",
       "      <td>Not enrolled with an MCO prior to delivery (e....</td>\n",
       "      <td>2</td>\n",
       "      <td>3</td>\n",
       "      <td>0</td>\n",
       "      <td>0</td>\n",
       "      <td>0</td>\n",
       "    </tr>\n",
       "    <tr>\n",
       "      <th>6</th>\n",
       "      <td>2</td>\n",
       "      <td>Charlottesville/Western</td>\n",
       "      <td>0</td>\n",
       "      <td>Enrolled with one MCO prior to delivery</td>\n",
       "      <td>2</td>\n",
       "      <td>4</td>\n",
       "      <td>0</td>\n",
       "      <td>0</td>\n",
       "      <td>0</td>\n",
       "    </tr>\n",
       "  </tbody>\n",
       "</table>\n",
       "</div>"
      ],
      "text/plain": [
       "   Medicaid_Program          Maternal_Region  Population_Group  \\\n",
       "0                 0                Tidewater                 0   \n",
       "1                 0                Tidewater                 0   \n",
       "3                 1                Tidewater                 0   \n",
       "4                 0                Tidewater                 0   \n",
       "6                 2  Charlottesville/Western                 0   \n",
       "\n",
       "                                           MCO_COUNT  Cont_Enroll_Category  \\\n",
       "0  Not enrolled with an MCO prior to delivery (e....                     0   \n",
       "1  Not enrolled with an MCO prior to delivery (e....                     0   \n",
       "3            Enrolled with one MCO prior to delivery                     1   \n",
       "4  Not enrolled with an MCO prior to delivery (e....                     2   \n",
       "6            Enrolled with one MCO prior to delivery                     2   \n",
       "\n",
       "  PNC_Index  Prenatal_SBIRT  Postpartum_SBIRT  Prenatal_DepScr  \n",
       "0         4               0                 0                0  \n",
       "1         1               0                 0                0  \n",
       "3         3               0                 0                1  \n",
       "4         3               0                 0                0  \n",
       "6         4               0                 0                0  "
      ]
     },
     "execution_count": 180,
     "metadata": {},
     "output_type": "execute_result"
    }
   ],
   "source": [
    "df.head()"
   ]
  },
  {
   "cell_type": "markdown",
   "metadata": {},
   "source": [
    "# MCO_COUNT\n",
    "<LI>\"Not enrolled with an MCO prior to delivery (e.g., FFS)\": 0,\n",
    "<LI>\"Enrolled with one MCO prior to delivery\": 1,\n",
    "<LI>\"Not enrolled prior to delivery\": 2,\n",
    "<LI>\"Enrolled with more than one MCO prior to delivery\": 3"
   ]
  },
  {
   "cell_type": "code",
   "execution_count": 181,
   "metadata": {},
   "outputs": [
    {
     "name": "stderr",
     "output_type": "stream",
     "text": [
      "/var/folders/rp/_9dmf8c92tl122d82xm7kvth0000gn/T/ipykernel_16610/1877323862.py:6: SettingWithCopyWarning: \n",
      "A value is trying to be set on a copy of a slice from a DataFrame.\n",
      "Try using .loc[row_indexer,col_indexer] = value instead\n",
      "\n",
      "See the caveats in the documentation: https://pandas.pydata.org/pandas-docs/stable/user_guide/indexing.html#returning-a-view-versus-a-copy\n",
      "  df['MCO_COUNT'] = df['MCO_COUNT'].replace(mapping)\n"
     ]
    }
   ],
   "source": [
    "mapping = {\"Not enrolled with an MCO prior to delivery (e.g., FFS)\": 0,\n",
    "           \"Enrolled with one MCO prior to delivery\": 1,\n",
    "           \"Not enrolled prior to delivery\": 2,\n",
    "           \"Enrolled with more than one MCO prior to delivery\": 3}\n",
    "\n",
    "df['MCO_COUNT'] = df['MCO_COUNT'].replace(mapping)\n"
   ]
  },
  {
   "cell_type": "code",
   "execution_count": 182,
   "metadata": {},
   "outputs": [
    {
     "data": {
      "text/html": [
       "<div>\n",
       "<style scoped>\n",
       "    .dataframe tbody tr th:only-of-type {\n",
       "        vertical-align: middle;\n",
       "    }\n",
       "\n",
       "    .dataframe tbody tr th {\n",
       "        vertical-align: top;\n",
       "    }\n",
       "\n",
       "    .dataframe thead th {\n",
       "        text-align: right;\n",
       "    }\n",
       "</style>\n",
       "<table border=\"1\" class=\"dataframe\">\n",
       "  <thead>\n",
       "    <tr style=\"text-align: right;\">\n",
       "      <th></th>\n",
       "      <th>Medicaid_Program</th>\n",
       "      <th>Maternal_Region</th>\n",
       "      <th>Population_Group</th>\n",
       "      <th>MCO_COUNT</th>\n",
       "      <th>Cont_Enroll_Category</th>\n",
       "      <th>PNC_Index</th>\n",
       "      <th>Prenatal_SBIRT</th>\n",
       "      <th>Postpartum_SBIRT</th>\n",
       "      <th>Prenatal_DepScr</th>\n",
       "    </tr>\n",
       "  </thead>\n",
       "  <tbody>\n",
       "    <tr>\n",
       "      <th>0</th>\n",
       "      <td>0</td>\n",
       "      <td>Tidewater</td>\n",
       "      <td>0</td>\n",
       "      <td>0</td>\n",
       "      <td>0</td>\n",
       "      <td>4</td>\n",
       "      <td>0</td>\n",
       "      <td>0</td>\n",
       "      <td>0</td>\n",
       "    </tr>\n",
       "    <tr>\n",
       "      <th>1</th>\n",
       "      <td>0</td>\n",
       "      <td>Tidewater</td>\n",
       "      <td>0</td>\n",
       "      <td>0</td>\n",
       "      <td>0</td>\n",
       "      <td>1</td>\n",
       "      <td>0</td>\n",
       "      <td>0</td>\n",
       "      <td>0</td>\n",
       "    </tr>\n",
       "    <tr>\n",
       "      <th>3</th>\n",
       "      <td>1</td>\n",
       "      <td>Tidewater</td>\n",
       "      <td>0</td>\n",
       "      <td>1</td>\n",
       "      <td>1</td>\n",
       "      <td>3</td>\n",
       "      <td>0</td>\n",
       "      <td>0</td>\n",
       "      <td>1</td>\n",
       "    </tr>\n",
       "    <tr>\n",
       "      <th>4</th>\n",
       "      <td>0</td>\n",
       "      <td>Tidewater</td>\n",
       "      <td>0</td>\n",
       "      <td>0</td>\n",
       "      <td>2</td>\n",
       "      <td>3</td>\n",
       "      <td>0</td>\n",
       "      <td>0</td>\n",
       "      <td>0</td>\n",
       "    </tr>\n",
       "    <tr>\n",
       "      <th>6</th>\n",
       "      <td>2</td>\n",
       "      <td>Charlottesville/Western</td>\n",
       "      <td>0</td>\n",
       "      <td>1</td>\n",
       "      <td>2</td>\n",
       "      <td>4</td>\n",
       "      <td>0</td>\n",
       "      <td>0</td>\n",
       "      <td>0</td>\n",
       "    </tr>\n",
       "  </tbody>\n",
       "</table>\n",
       "</div>"
      ],
      "text/plain": [
       "   Medicaid_Program          Maternal_Region  Population_Group  MCO_COUNT  \\\n",
       "0                 0                Tidewater                 0          0   \n",
       "1                 0                Tidewater                 0          0   \n",
       "3                 1                Tidewater                 0          1   \n",
       "4                 0                Tidewater                 0          0   \n",
       "6                 2  Charlottesville/Western                 0          1   \n",
       "\n",
       "   Cont_Enroll_Category PNC_Index  Prenatal_SBIRT  Postpartum_SBIRT  \\\n",
       "0                     0         4               0                 0   \n",
       "1                     0         1               0                 0   \n",
       "3                     1         3               0                 0   \n",
       "4                     2         3               0                 0   \n",
       "6                     2         4               0                 0   \n",
       "\n",
       "   Prenatal_DepScr  \n",
       "0                0  \n",
       "1                0  \n",
       "3                1  \n",
       "4                0  \n",
       "6                0  "
      ]
     },
     "execution_count": 182,
     "metadata": {},
     "output_type": "execute_result"
    }
   ],
   "source": [
    "df.head()"
   ]
  },
  {
   "cell_type": "code",
   "execution_count": 183,
   "metadata": {},
   "outputs": [
    {
     "name": "stdout",
     "output_type": "stream",
     "text": [
      "<class 'pandas.core.frame.DataFrame'>\n",
      "Int64Index: 26164 entries, 0 to 34400\n",
      "Data columns (total 9 columns):\n",
      " #   Column                Non-Null Count  Dtype \n",
      "---  ------                --------------  ----- \n",
      " 0   Medicaid_Program      26164 non-null  int64 \n",
      " 1   Maternal_Region       26164 non-null  object\n",
      " 2   Population_Group      26164 non-null  int64 \n",
      " 3   MCO_COUNT             26164 non-null  int64 \n",
      " 4   Cont_Enroll_Category  26164 non-null  int64 \n",
      " 5   PNC_Index             26164 non-null  object\n",
      " 6   Prenatal_SBIRT        26164 non-null  int64 \n",
      " 7   Postpartum_SBIRT      26164 non-null  int64 \n",
      " 8   Prenatal_DepScr       26164 non-null  int64 \n",
      "dtypes: int64(7), object(2)\n",
      "memory usage: 2.0+ MB\n"
     ]
    }
   ],
   "source": [
    "df.info()"
   ]
  },
  {
   "cell_type": "code",
   "execution_count": 184,
   "metadata": {},
   "outputs": [
    {
     "data": {
      "text/plain": [
       "array(['Tidewater', 'Charlottesville/Western', 'Central',\n",
       "       'Northern & Winchester', 'Roanoke/Alleghany', 'Southwest'],\n",
       "      dtype=object)"
      ]
     },
     "execution_count": 184,
     "metadata": {},
     "output_type": "execute_result"
    }
   ],
   "source": [
    "df['Maternal_Region'].unique()"
   ]
  },
  {
   "cell_type": "markdown",
   "metadata": {},
   "source": [
    "# Mapping "
   ]
  },
  {
   "cell_type": "code",
   "execution_count": 186,
   "metadata": {},
   "outputs": [
    {
     "data": {
      "text/html": [
       "<div>\n",
       "<style scoped>\n",
       "    .dataframe tbody tr th:only-of-type {\n",
       "        vertical-align: middle;\n",
       "    }\n",
       "\n",
       "    .dataframe tbody tr th {\n",
       "        vertical-align: top;\n",
       "    }\n",
       "\n",
       "    .dataframe thead th {\n",
       "        text-align: right;\n",
       "    }\n",
       "</style>\n",
       "<table border=\"1\" class=\"dataframe\">\n",
       "  <thead>\n",
       "    <tr style=\"text-align: right;\">\n",
       "      <th></th>\n",
       "      <th>Medicaid_Program</th>\n",
       "      <th>Maternal_Region</th>\n",
       "      <th>Population_Group</th>\n",
       "      <th>MCO_COUNT</th>\n",
       "      <th>Cont_Enroll_Category</th>\n",
       "      <th>PNC_Index</th>\n",
       "      <th>Prenatal_SBIRT</th>\n",
       "      <th>Postpartum_SBIRT</th>\n",
       "      <th>Prenatal_DepScr</th>\n",
       "    </tr>\n",
       "  </thead>\n",
       "  <tbody>\n",
       "    <tr>\n",
       "      <th>0</th>\n",
       "      <td>0</td>\n",
       "      <td>Tidewater</td>\n",
       "      <td>0</td>\n",
       "      <td>0</td>\n",
       "      <td>0</td>\n",
       "      <td>4</td>\n",
       "      <td>0</td>\n",
       "      <td>0</td>\n",
       "      <td>0</td>\n",
       "    </tr>\n",
       "    <tr>\n",
       "      <th>1</th>\n",
       "      <td>0</td>\n",
       "      <td>Tidewater</td>\n",
       "      <td>0</td>\n",
       "      <td>0</td>\n",
       "      <td>0</td>\n",
       "      <td>1</td>\n",
       "      <td>0</td>\n",
       "      <td>0</td>\n",
       "      <td>0</td>\n",
       "    </tr>\n",
       "    <tr>\n",
       "      <th>3</th>\n",
       "      <td>1</td>\n",
       "      <td>Tidewater</td>\n",
       "      <td>0</td>\n",
       "      <td>1</td>\n",
       "      <td>1</td>\n",
       "      <td>3</td>\n",
       "      <td>0</td>\n",
       "      <td>0</td>\n",
       "      <td>1</td>\n",
       "    </tr>\n",
       "    <tr>\n",
       "      <th>4</th>\n",
       "      <td>0</td>\n",
       "      <td>Tidewater</td>\n",
       "      <td>0</td>\n",
       "      <td>0</td>\n",
       "      <td>2</td>\n",
       "      <td>3</td>\n",
       "      <td>0</td>\n",
       "      <td>0</td>\n",
       "      <td>0</td>\n",
       "    </tr>\n",
       "    <tr>\n",
       "      <th>6</th>\n",
       "      <td>2</td>\n",
       "      <td>Charlottesville/Western</td>\n",
       "      <td>0</td>\n",
       "      <td>1</td>\n",
       "      <td>2</td>\n",
       "      <td>4</td>\n",
       "      <td>0</td>\n",
       "      <td>0</td>\n",
       "      <td>0</td>\n",
       "    </tr>\n",
       "  </tbody>\n",
       "</table>\n",
       "</div>"
      ],
      "text/plain": [
       "   Medicaid_Program          Maternal_Region  Population_Group  MCO_COUNT  \\\n",
       "0                 0                Tidewater                 0          0   \n",
       "1                 0                Tidewater                 0          0   \n",
       "3                 1                Tidewater                 0          1   \n",
       "4                 0                Tidewater                 0          0   \n",
       "6                 2  Charlottesville/Western                 0          1   \n",
       "\n",
       "   Cont_Enroll_Category PNC_Index  Prenatal_SBIRT  Postpartum_SBIRT  \\\n",
       "0                     0         4               0                 0   \n",
       "1                     0         1               0                 0   \n",
       "3                     1         3               0                 0   \n",
       "4                     2         3               0                 0   \n",
       "6                     2         4               0                 0   \n",
       "\n",
       "   Prenatal_DepScr  \n",
       "0                0  \n",
       "1                0  \n",
       "3                1  \n",
       "4                0  \n",
       "6                0  "
      ]
     },
     "execution_count": 186,
     "metadata": {},
     "output_type": "execute_result"
    }
   ],
   "source": [
    "df.head()"
   ]
  },
  {
   "cell_type": "markdown",
   "metadata": {},
   "source": [
    "# Medicad program"
   ]
  },
  {
   "cell_type": "code",
   "execution_count": 187,
   "metadata": {},
   "outputs": [
    {
     "data": {
      "image/png": "[encoded data removed]",
      "text/plain": [
       "<Figure size 864x576 with 1 Axes>"
      ]
     },
     "metadata": {
      "needs_background": "light"
     },
     "output_type": "display_data"
    }
   ],
   "source": [
    "legend_labels = {\n",
    "    0: 'Medicaid for Pregnant Women',\n",
    "    1: 'Other Aid Categories',\n",
    "    2: 'FAMIS MOMS',\n",
    "    3: 'Medicaid Expansion',\n",
    "    4: 'Not Enrolled'\n",
    "}\n",
    "\n",
    "# Create the count plot\n",
    "fig, ax = plt.subplots(figsize=(12, 8))\n",
    "sns.countplot(x='Medicaid_Program',hue='Maternal_Region', data=df, palette='colorblind')\n",
    "\n",
    "# Set the legend labels\n",
    "ax.set_xticklabels([legend_labels[x] for x in range(len(legend_labels))])\n",
    "\n",
    "# Set the plot title and axis labels\n",
    "plt.title('Count of Medicaid Program Values')\n",
    "plt.xlabel('Medicaid Program')\n",
    "plt.ylabel('Count')\n",
    "\n",
    "# Show the plot\n",
    "plt.show()"
   ]
  },
  {
   "cell_type": "code",
   "execution_count": 188,
   "metadata": {},
   "outputs": [
    {
     "data": {
      "text/plain": [
       "0    11979\n",
       "1     7111\n",
       "3     5036\n",
       "2     1689\n",
       "4      349\n",
       "Name: Medicaid_Program, dtype: int64"
      ]
     },
     "execution_count": 188,
     "metadata": {},
     "output_type": "execute_result"
    }
   ],
   "source": [
    "df['Medicaid_Program'].value_counts()"
   ]
  },
  {
   "cell_type": "code",
   "execution_count": 189,
   "metadata": {},
   "outputs": [
    {
     "data": {
      "text/plain": [
       "array(['Tidewater', 'Charlottesville/Western', 'Central',\n",
       "       'Northern & Winchester', 'Roanoke/Alleghany', 'Southwest'],\n",
       "      dtype=object)"
      ]
     },
     "execution_count": 189,
     "metadata": {},
     "output_type": "execute_result"
    }
   ],
   "source": [
    "df['Maternal_Region'].unique()"
   ]
  },
  {
   "cell_type": "markdown",
   "metadata": {},
   "source": [
    "# Cont_Enroll_Category"
   ]
  },
  {
   "cell_type": "code",
   "execution_count": 190,
   "metadata": {},
   "outputs": [
    {
     "data": {
      "image/png": "[encoded data removed]",
      "text/plain": [
       "<Figure size 1584x576 with 1 Axes>"
      ]
     },
     "metadata": {
      "needs_background": "light"
     },
     "output_type": "display_data"
    }
   ],
   "source": [
    "\n",
    "# Define the legend labels\n",
    "legend_labels = {\n",
    "    0: 'Enrolled for <=  30 days prior to delivery',\n",
    "    1: 'Enrolled for 31 to 90 days prior to delivery',\n",
    "    2: 'Enrolled for 91 to 180 days prior to delivery',\n",
    "    3: 'Not continuously enrolled prior to delivery',\n",
    "    4: 'Enrolled > 180 days prior to delivery'\n",
    "}\n",
    "\n",
    "# Create the count plot\n",
    "fig, ax = plt.subplots(figsize=(22, 8))\n",
    "sns.countplot(x='Cont_Enroll_Category',hue='Maternal_Region', data=df, palette='colorblind')\n",
    "\n",
    "# Set the legend labels\n",
    "ax.set_xticklabels(list(legend_labels.values()))\n",
    "\n",
    "# Set the plot title and axis labels\n",
    "plt.title('Count of Cont_Enroll_Category Values')\n",
    "plt.xlabel('Cont_Enroll_Category')\n",
    "plt.ylabel('Count')\n",
    "\n",
    "# Set the y-axis label coordinates to stack underneath the column\n",
    "ax.yaxis.set_label_coords(-0.05, 0.5)\n",
    "\n",
    "# Show the plot\n",
    "plt.show()\n"
   ]
  },
  {
   "cell_type": "markdown",
   "metadata": {},
   "source": [
    "# PNC_Index"
   ]
  },
  {
   "cell_type": "code",
   "execution_count": 191,
   "metadata": {},
   "outputs": [
    {
     "data": {
      "text/html": [
       "<div>\n",
       "<style scoped>\n",
       "    .dataframe tbody tr th:only-of-type {\n",
       "        vertical-align: middle;\n",
       "    }\n",
       "\n",
       "    .dataframe tbody tr th {\n",
       "        vertical-align: top;\n",
       "    }\n",
       "\n",
       "    .dataframe thead th {\n",
       "        text-align: right;\n",
       "    }\n",
       "</style>\n",
       "<table border=\"1\" class=\"dataframe\">\n",
       "  <thead>\n",
       "    <tr style=\"text-align: right;\">\n",
       "      <th></th>\n",
       "      <th>Medicaid_Program</th>\n",
       "      <th>Maternal_Region</th>\n",
       "      <th>Population_Group</th>\n",
       "      <th>MCO_COUNT</th>\n",
       "      <th>Cont_Enroll_Category</th>\n",
       "      <th>PNC_Index</th>\n",
       "      <th>Prenatal_SBIRT</th>\n",
       "      <th>Postpartum_SBIRT</th>\n",
       "      <th>Prenatal_DepScr</th>\n",
       "    </tr>\n",
       "  </thead>\n",
       "  <tbody>\n",
       "    <tr>\n",
       "      <th>0</th>\n",
       "      <td>0</td>\n",
       "      <td>Tidewater</td>\n",
       "      <td>0</td>\n",
       "      <td>0</td>\n",
       "      <td>0</td>\n",
       "      <td>4</td>\n",
       "      <td>0</td>\n",
       "      <td>0</td>\n",
       "      <td>0</td>\n",
       "    </tr>\n",
       "    <tr>\n",
       "      <th>1</th>\n",
       "      <td>0</td>\n",
       "      <td>Tidewater</td>\n",
       "      <td>0</td>\n",
       "      <td>0</td>\n",
       "      <td>0</td>\n",
       "      <td>1</td>\n",
       "      <td>0</td>\n",
       "      <td>0</td>\n",
       "      <td>0</td>\n",
       "    </tr>\n",
       "    <tr>\n",
       "      <th>3</th>\n",
       "      <td>1</td>\n",
       "      <td>Tidewater</td>\n",
       "      <td>0</td>\n",
       "      <td>1</td>\n",
       "      <td>1</td>\n",
       "      <td>3</td>\n",
       "      <td>0</td>\n",
       "      <td>0</td>\n",
       "      <td>1</td>\n",
       "    </tr>\n",
       "    <tr>\n",
       "      <th>4</th>\n",
       "      <td>0</td>\n",
       "      <td>Tidewater</td>\n",
       "      <td>0</td>\n",
       "      <td>0</td>\n",
       "      <td>2</td>\n",
       "      <td>3</td>\n",
       "      <td>0</td>\n",
       "      <td>0</td>\n",
       "      <td>0</td>\n",
       "    </tr>\n",
       "    <tr>\n",
       "      <th>6</th>\n",
       "      <td>2</td>\n",
       "      <td>Charlottesville/Western</td>\n",
       "      <td>0</td>\n",
       "      <td>1</td>\n",
       "      <td>2</td>\n",
       "      <td>4</td>\n",
       "      <td>0</td>\n",
       "      <td>0</td>\n",
       "      <td>0</td>\n",
       "    </tr>\n",
       "  </tbody>\n",
       "</table>\n",
       "</div>"
      ],
      "text/plain": [
       "   Medicaid_Program          Maternal_Region  Population_Group  MCO_COUNT  \\\n",
       "0                 0                Tidewater                 0          0   \n",
       "1                 0                Tidewater                 0          0   \n",
       "3                 1                Tidewater                 0          1   \n",
       "4                 0                Tidewater                 0          0   \n",
       "6                 2  Charlottesville/Western                 0          1   \n",
       "\n",
       "   Cont_Enroll_Category PNC_Index  Prenatal_SBIRT  Postpartum_SBIRT  \\\n",
       "0                     0         4               0                 0   \n",
       "1                     0         1               0                 0   \n",
       "3                     1         3               0                 0   \n",
       "4                     2         3               0                 0   \n",
       "6                     2         4               0                 0   \n",
       "\n",
       "   Prenatal_DepScr  \n",
       "0                0  \n",
       "1                0  \n",
       "3                1  \n",
       "4                0  \n",
       "6                0  "
      ]
     },
     "execution_count": 191,
     "metadata": {},
     "output_type": "execute_result"
    }
   ],
   "source": [
    "df.head()"
   ]
  },
  {
   "cell_type": "code",
   "execution_count": 192,
   "metadata": {},
   "outputs": [],
   "source": [
    "df = df[df['PNC_Index'] != 'Missing Info']"
   ]
  },
  {
   "cell_type": "code",
   "execution_count": 193,
   "metadata": {},
   "outputs": [
    {
     "data": {
      "image/png": "[encoded data removed]",
      "text/plain": [
       "<Figure size 1584x576 with 1 Axes>"
      ]
     },
     "metadata": {
      "needs_background": "light"
     },
     "output_type": "display_data"
    }
   ],
   "source": [
    "# Define the legend labels\n",
    "legend_labels = {\n",
    "    4: 'Adequate Plus PNC',\n",
    "    3: 'Adequate PNC',\n",
    "    2: 'Intermediate PNC',\n",
    "    1: 'Inadequate PNC',\n",
    "    0: 'Births with No Prenatal Care',\n",
    "}\n",
    "\n",
    "# Create the count plot\n",
    "fig, ax = plt.subplots(figsize=(22, 8))\n",
    "sns.countplot(x='PNC_Index', hue='Maternal_Region', data=df, palette='colorblind')\n",
    "\n",
    "# Set the legend labels\n",
    "ax.set_xticklabels([legend_labels[x] for x in range(len(legend_labels))])\n",
    "\n",
    "# Set the plot title and axis labels\n",
    "plt.title('Count of PNC Index Values')\n",
    "plt.xlabel('PNC Index')\n",
    "plt.ylabel('Count')\n",
    "\n",
    "# Set the y-axis label coordinates to stack underneath the column\n",
    "ax.yaxis.set_label_coords(-0.05, 0.5)\n",
    "\n",
    "# Show the plot\n",
    "plt.show()\n"
   ]
  },
  {
   "cell_type": "code",
   "execution_count": 194,
   "metadata": {},
   "outputs": [
    {
     "data": {
      "text/plain": [
       "array([4, 1, 3, 0, 2], dtype=object)"
      ]
     },
     "execution_count": 194,
     "metadata": {},
     "output_type": "execute_result"
    }
   ],
   "source": [
    "df['PNC_Index'].unique()"
   ]
  },
  {
   "cell_type": "markdown",
   "metadata": {},
   "source": [
    "# 'Prenatal_SBIRT', 'Postpartum_SBIRT', 'Prenatal_DepScr"
   ]
  },
  {
   "cell_type": "code",
   "execution_count": 195,
   "metadata": {},
   "outputs": [
    {
     "data": {
      "image/png": "[encoded data removed]",
      "text/plain": [
       "<Figure size 1440x360 with 3 Axes>"
      ]
     },
     "metadata": {
      "needs_background": "light"
     },
     "output_type": "display_data"
    }
   ],
   "source": [
    "# Define the list of variables and their corresponding display names\n",
    "variables = ['Prenatal_SBIRT', 'Postpartum_SBIRT', 'Prenatal_DepScr']\n",
    "display_names = ['Prenatal SBIRT', 'Postpartum SBIRT', 'Prenatal DepScr']\n",
    "\n",
    "# Create a subplot for each variable\n",
    "fig, axs = plt.subplots(ncols=len(variables), figsize=(20, 5))\n",
    "\n",
    "# Loop through each variable and plot the value counts based on Maternal_Region\n",
    "for i, variable in enumerate(variables):\n",
    "    sns.countplot(x=variable, hue='Maternal_Region', data=df.replace({True: 1, False: 0}), ax=axs[i], palette='colorblind')\n",
    "    axs[i].set_title(display_names[i])\n",
    "    axs[i].set_xlabel('')\n",
    "    axs[i].set_ylabel('Count')\n",
    "    axs[i].legend(loc='upper right')\n",
    "\n",
    "# Set the overall plot title\n",
    "plt.suptitle('Value Counts of Boolean Variables by Maternal Region', fontsize=16)\n",
    "\n",
    "# Adjust the layout of the subplots\n",
    "plt.tight_layout()\n",
    "\n",
    "# Show the plot\n",
    "plt.show()\n"
   ]
  },
  {
   "cell_type": "code",
   "execution_count": 196,
   "metadata": {},
   "outputs": [
    {
     "data": {
      "text/plain": [
       "0    25845\n",
       "1       10\n",
       "Name: Postpartum_SBIRT, dtype: int64"
      ]
     },
     "execution_count": 196,
     "metadata": {},
     "output_type": "execute_result"
    }
   ],
   "source": [
    "df['Postpartum_SBIRT'].value_counts()"
   ]
  },
  {
   "cell_type": "code",
   "execution_count": 197,
   "metadata": {},
   "outputs": [
    {
     "data": {
      "text/plain": [
       "0    25836\n",
       "1       19\n",
       "Name: Prenatal_SBIRT, dtype: int64"
      ]
     },
     "execution_count": 197,
     "metadata": {},
     "output_type": "execute_result"
    }
   ],
   "source": [
    "df['Prenatal_SBIRT'].value_counts()"
   ]
  },
  {
   "cell_type": "code",
   "execution_count": 198,
   "metadata": {},
   "outputs": [
    {
     "data": {
      "text/plain": [
       "0    24297\n",
       "1     1558\n",
       "Name: Prenatal_DepScr, dtype: int64"
      ]
     },
     "execution_count": 198,
     "metadata": {},
     "output_type": "execute_result"
    }
   ],
   "source": [
    "df['Prenatal_DepScr'].value_counts()"
   ]
  },
  {
   "cell_type": "code",
   "execution_count": 199,
   "metadata": {},
   "outputs": [
    {
     "data": {
      "image/png": "[encoded data removed]",
      "text/plain": [
       "<Figure size 1584x576 with 1 Axes>"
      ]
     },
     "metadata": {
      "needs_background": "light"
     },
     "output_type": "display_data"
    }
   ],
   "source": [
    "# Define the legend labels\n",
    "legend_labels = {\n",
    "    0: 'Comparison Group',\n",
    "    1: 'Study Population'\n",
    "}\n",
    "\n",
    "# Create the count plot\n",
    "fig, ax = plt.subplots(figsize=(22, 8))\n",
    "sns.countplot(x='Population_Group', hue='Maternal_Region', data=df, palette='colorblind')\n",
    "\n",
    "# Set the legend labels\n",
    "ax.set_xticklabels(list(legend_labels.values()))\n",
    "\n",
    "# Set the plot title and axis labels\n",
    "plt.title('Count of Population_Group Values')\n",
    "plt.xlabel('Population_Group')\n",
    "plt.ylabel('Count')\n",
    "\n",
    "# Set the y-axis label coordinates to stack underneath the column\n",
    "ax.yaxis.set_label_coords(-0.05, 0.5)\n",
    "\n",
    "# Show the plot\n",
    "plt.show()\n"
   ]
  },
  {
   "cell_type": "markdown",
   "metadata": {},
   "source": [
    "# MCO_COUNT"
   ]
  },
  {
   "cell_type": "code",
   "execution_count": 200,
   "metadata": {},
   "outputs": [
    {
     "data": {
      "text/plain": [
       "Index(['Medicaid_Program', 'Maternal_Region', 'Population_Group', 'MCO_COUNT',\n",
       "       'Cont_Enroll_Category', 'PNC_Index', 'Prenatal_SBIRT',\n",
       "       'Postpartum_SBIRT', 'Prenatal_DepScr'],\n",
       "      dtype='object')"
      ]
     },
     "execution_count": 200,
     "metadata": {},
     "output_type": "execute_result"
    }
   ],
   "source": [
    "df.columns"
   ]
  },
  {
   "cell_type": "code",
   "execution_count": 201,
   "metadata": {},
   "outputs": [
    {
     "data": {
      "image/png": "[encoded data removed]",
      "text/plain": [
       "<Figure size 1584x576 with 1 Axes>"
      ]
     },
     "metadata": {
      "needs_background": "light"
     },
     "output_type": "display_data"
    }
   ],
   "source": [
    "\n",
    "legend_labels = {\n",
    "    0: \"Not enrolled with an MCO prior to delivery (e.g., FFS)\",\n",
    "    1: \"Enrolled with one MCO prior to delivery\",\n",
    "    2: \"Not enrolled prior to delivery\",\n",
    "    3: \"Enrolled with more than one MCO prior to delivery\"\n",
    "}\n",
    "\n",
    "\n",
    "fig, ax = plt.subplots(figsize=(22, 8))\n",
    "sns.countplot(x=\"MCO_COUNT\", hue=\"Maternal_Region\", data=df, palette=\"colorblind\")\n",
    "\n",
    "\n",
    "ax.set_xticklabels(list(legend_labels.values()))\n",
    "\n",
    "\n",
    "plt.title(\"Count of MCO_COUNT Values - Not enrolled with an MCO prior to delivery (e.g., FFS)\")\n",
    "plt.xlabel(\"MCO_COUNT Category\")\n",
    "plt.ylabel(\"Count\")\n",
    "\n",
    "\n",
    "ax.yaxis.set_label_coords(-0.05, 0.5)\n",
    "\n",
    "plt.show()\n",
    "\n",
    "\n"
   ]
  },
  {
   "cell_type": "code",
   "execution_count": 202,
   "metadata": {},
   "outputs": [
    {
     "data": {
      "text/html": [
       "<div>\n",
       "<style scoped>\n",
       "    .dataframe tbody tr th:only-of-type {\n",
       "        vertical-align: middle;\n",
       "    }\n",
       "\n",
       "    .dataframe tbody tr th {\n",
       "        vertical-align: top;\n",
       "    }\n",
       "\n",
       "    .dataframe thead th {\n",
       "        text-align: right;\n",
       "    }\n",
       "</style>\n",
       "<table border=\"1\" class=\"dataframe\">\n",
       "  <thead>\n",
       "    <tr style=\"text-align: right;\">\n",
       "      <th></th>\n",
       "      <th>Medicaid_Program</th>\n",
       "      <th>Maternal_Region</th>\n",
       "      <th>Population_Group</th>\n",
       "      <th>MCO_COUNT</th>\n",
       "      <th>Cont_Enroll_Category</th>\n",
       "      <th>PNC_Index</th>\n",
       "      <th>Prenatal_SBIRT</th>\n",
       "      <th>Postpartum_SBIRT</th>\n",
       "      <th>Prenatal_DepScr</th>\n",
       "    </tr>\n",
       "  </thead>\n",
       "  <tbody>\n",
       "    <tr>\n",
       "      <th>0</th>\n",
       "      <td>0</td>\n",
       "      <td>Tidewater</td>\n",
       "      <td>0</td>\n",
       "      <td>0</td>\n",
       "      <td>0</td>\n",
       "      <td>4</td>\n",
       "      <td>0</td>\n",
       "      <td>0</td>\n",
       "      <td>0</td>\n",
       "    </tr>\n",
       "    <tr>\n",
       "      <th>1</th>\n",
       "      <td>0</td>\n",
       "      <td>Tidewater</td>\n",
       "      <td>0</td>\n",
       "      <td>0</td>\n",
       "      <td>0</td>\n",
       "      <td>1</td>\n",
       "      <td>0</td>\n",
       "      <td>0</td>\n",
       "      <td>0</td>\n",
       "    </tr>\n",
       "    <tr>\n",
       "      <th>3</th>\n",
       "      <td>1</td>\n",
       "      <td>Tidewater</td>\n",
       "      <td>0</td>\n",
       "      <td>1</td>\n",
       "      <td>1</td>\n",
       "      <td>3</td>\n",
       "      <td>0</td>\n",
       "      <td>0</td>\n",
       "      <td>1</td>\n",
       "    </tr>\n",
       "    <tr>\n",
       "      <th>4</th>\n",
       "      <td>0</td>\n",
       "      <td>Tidewater</td>\n",
       "      <td>0</td>\n",
       "      <td>0</td>\n",
       "      <td>2</td>\n",
       "      <td>3</td>\n",
       "      <td>0</td>\n",
       "      <td>0</td>\n",
       "      <td>0</td>\n",
       "    </tr>\n",
       "    <tr>\n",
       "      <th>6</th>\n",
       "      <td>2</td>\n",
       "      <td>Charlottesville/Western</td>\n",
       "      <td>0</td>\n",
       "      <td>1</td>\n",
       "      <td>2</td>\n",
       "      <td>4</td>\n",
       "      <td>0</td>\n",
       "      <td>0</td>\n",
       "      <td>0</td>\n",
       "    </tr>\n",
       "  </tbody>\n",
       "</table>\n",
       "</div>"
      ],
      "text/plain": [
       "   Medicaid_Program          Maternal_Region  Population_Group  MCO_COUNT  \\\n",
       "0                 0                Tidewater                 0          0   \n",
       "1                 0                Tidewater                 0          0   \n",
       "3                 1                Tidewater                 0          1   \n",
       "4                 0                Tidewater                 0          0   \n",
       "6                 2  Charlottesville/Western                 0          1   \n",
       "\n",
       "   Cont_Enroll_Category PNC_Index  Prenatal_SBIRT  Postpartum_SBIRT  \\\n",
       "0                     0         4               0                 0   \n",
       "1                     0         1               0                 0   \n",
       "3                     1         3               0                 0   \n",
       "4                     2         3               0                 0   \n",
       "6                     2         4               0                 0   \n",
       "\n",
       "   Prenatal_DepScr  \n",
       "0                0  \n",
       "1                0  \n",
       "3                1  \n",
       "4                0  \n",
       "6                0  "
      ]
     },
     "execution_count": 202,
     "metadata": {},
     "output_type": "execute_result"
    }
   ],
   "source": [
    "df.head()\n"
   ]
  },
  {
   "cell_type": "code",
   "execution_count": 203,
   "metadata": {},
   "outputs": [],
   "source": [
    "df.to_csv('my_data.csv')\n"
   ]
  },
  {
   "cell_type": "code",
   "execution_count": 204,
   "metadata": {},
   "outputs": [
    {
     "data": {
      "text/plain": [
       "Northern & Winchester      6815\n",
       "Central                    6311\n",
       "Tidewater                  5997\n",
       "Charlottesville/Western    3429\n",
       "Roanoke/Alleghany          2436\n",
       "Southwest                   867\n",
       "Name: Maternal_Region, dtype: int64"
      ]
     },
     "execution_count": 204,
     "metadata": {},
     "output_type": "execute_result"
    }
   ],
   "source": [
    "df['Maternal_Region'].value_counts()\n",
    "\n"
   ]
  },
  {
   "cell_type": "code",
   "execution_count": 205,
   "metadata": {},
   "outputs": [
    {
     "name": "stdout",
     "output_type": "stream",
     "text": [
      "<class 'pandas.core.frame.DataFrame'>\n",
      "Int64Index: 25855 entries, 0 to 34400\n",
      "Data columns (total 9 columns):\n",
      " #   Column                Non-Null Count  Dtype \n",
      "---  ------                --------------  ----- \n",
      " 0   Medicaid_Program      25855 non-null  int64 \n",
      " 1   Maternal_Region       25855 non-null  object\n",
      " 2   Population_Group      25855 non-null  int64 \n",
      " 3   MCO_COUNT             25855 non-null  int64 \n",
      " 4   Cont_Enroll_Category  25855 non-null  int64 \n",
      " 5   PNC_Index             25855 non-null  object\n",
      " 6   Prenatal_SBIRT        25855 non-null  int64 \n",
      " 7   Postpartum_SBIRT      25855 non-null  int64 \n",
      " 8   Prenatal_DepScr       25855 non-null  int64 \n",
      "dtypes: int64(7), object(2)\n",
      "memory usage: 2.0+ MB\n"
     ]
    }
   ],
   "source": [
    "df.info()"
   ]
  },
  {
   "cell_type": "code",
   "execution_count": 206,
   "metadata": {},
   "outputs": [
    {
     "data": {
      "text/html": [
       "<div>\n",
       "<style scoped>\n",
       "    .dataframe tbody tr th:only-of-type {\n",
       "        vertical-align: middle;\n",
       "    }\n",
       "\n",
       "    .dataframe tbody tr th {\n",
       "        vertical-align: top;\n",
       "    }\n",
       "\n",
       "    .dataframe thead th {\n",
       "        text-align: right;\n",
       "    }\n",
       "</style>\n",
       "<table border=\"1\" class=\"dataframe\">\n",
       "  <thead>\n",
       "    <tr style=\"text-align: right;\">\n",
       "      <th></th>\n",
       "      <th>Medicaid_Program</th>\n",
       "      <th>Maternal_Region</th>\n",
       "      <th>Population_Group</th>\n",
       "      <th>MCO_COUNT</th>\n",
       "      <th>Cont_Enroll_Category</th>\n",
       "      <th>PNC_Index</th>\n",
       "      <th>Prenatal_SBIRT</th>\n",
       "      <th>Postpartum_SBIRT</th>\n",
       "      <th>Prenatal_DepScr</th>\n",
       "    </tr>\n",
       "  </thead>\n",
       "  <tbody>\n",
       "    <tr>\n",
       "      <th>0</th>\n",
       "      <td>0</td>\n",
       "      <td>Tidewater</td>\n",
       "      <td>0</td>\n",
       "      <td>0</td>\n",
       "      <td>0</td>\n",
       "      <td>4</td>\n",
       "      <td>0</td>\n",
       "      <td>0</td>\n",
       "      <td>0</td>\n",
       "    </tr>\n",
       "    <tr>\n",
       "      <th>1</th>\n",
       "      <td>0</td>\n",
       "      <td>Tidewater</td>\n",
       "      <td>0</td>\n",
       "      <td>0</td>\n",
       "      <td>0</td>\n",
       "      <td>1</td>\n",
       "      <td>0</td>\n",
       "      <td>0</td>\n",
       "      <td>0</td>\n",
       "    </tr>\n",
       "    <tr>\n",
       "      <th>3</th>\n",
       "      <td>1</td>\n",
       "      <td>Tidewater</td>\n",
       "      <td>0</td>\n",
       "      <td>1</td>\n",
       "      <td>1</td>\n",
       "      <td>3</td>\n",
       "      <td>0</td>\n",
       "      <td>0</td>\n",
       "      <td>1</td>\n",
       "    </tr>\n",
       "    <tr>\n",
       "      <th>4</th>\n",
       "      <td>0</td>\n",
       "      <td>Tidewater</td>\n",
       "      <td>0</td>\n",
       "      <td>0</td>\n",
       "      <td>2</td>\n",
       "      <td>3</td>\n",
       "      <td>0</td>\n",
       "      <td>0</td>\n",
       "      <td>0</td>\n",
       "    </tr>\n",
       "    <tr>\n",
       "      <th>6</th>\n",
       "      <td>2</td>\n",
       "      <td>Charlottesville/Western</td>\n",
       "      <td>0</td>\n",
       "      <td>1</td>\n",
       "      <td>2</td>\n",
       "      <td>4</td>\n",
       "      <td>0</td>\n",
       "      <td>0</td>\n",
       "      <td>0</td>\n",
       "    </tr>\n",
       "  </tbody>\n",
       "</table>\n",
       "</div>"
      ],
      "text/plain": [
       "   Medicaid_Program          Maternal_Region  Population_Group  MCO_COUNT  \\\n",
       "0                 0                Tidewater                 0          0   \n",
       "1                 0                Tidewater                 0          0   \n",
       "3                 1                Tidewater                 0          1   \n",
       "4                 0                Tidewater                 0          0   \n",
       "6                 2  Charlottesville/Western                 0          1   \n",
       "\n",
       "   Cont_Enroll_Category PNC_Index  Prenatal_SBIRT  Postpartum_SBIRT  \\\n",
       "0                     0         4               0                 0   \n",
       "1                     0         1               0                 0   \n",
       "3                     1         3               0                 0   \n",
       "4                     2         3               0                 0   \n",
       "6                     2         4               0                 0   \n",
       "\n",
       "   Prenatal_DepScr  \n",
       "0                0  \n",
       "1                0  \n",
       "3                1  \n",
       "4                0  \n",
       "6                0  "
      ]
     },
     "execution_count": 206,
     "metadata": {},
     "output_type": "execute_result"
    }
   ],
   "source": [
    "df.head()"
   ]
  },
  {
   "cell_type": "code",
   "execution_count": 207,
   "metadata": {},
   "outputs": [
    {
     "data": {
      "text/plain": [
       "Northern & Winchester      6815\n",
       "Central                    6311\n",
       "Tidewater                  5997\n",
       "Charlottesville/Western    3429\n",
       "Roanoke/Alleghany          2436\n",
       "Southwest                   867\n",
       "Name: Maternal_Region, dtype: int64"
      ]
     },
     "execution_count": 207,
     "metadata": {},
     "output_type": "execute_result"
    }
   ],
   "source": [
    "df['Maternal_Region'].value_counts()"
   ]
  },
  {
   "cell_type": "code",
   "execution_count": 208,
   "metadata": {},
   "outputs": [
    {
     "name": "stdout",
     "output_type": "stream",
     "text": [
      "   Medicaid_Program          Maternal_Region  Population_Group  MCO_COUNT  \\\n",
      "0                 0                Tidewater                 0          0   \n",
      "1                 0                Tidewater                 0          0   \n",
      "3                 1                Tidewater                 0          1   \n",
      "4                 0                Tidewater                 0          0   \n",
      "6                 2  Charlottesville/Western                 0          1   \n",
      "\n",
      "   Cont_Enroll_Category PNC_Index  Prenatal_SBIRT  Postpartum_SBIRT  \\\n",
      "0                     0         4               0                 0   \n",
      "1                     0         1               0                 0   \n",
      "3                     1         3               0                 0   \n",
      "4                     2         3               0                 0   \n",
      "6                     2         4               0                 0   \n",
      "\n",
      "   Prenatal_DepScr  Latitude  Longitude  \n",
      "0                0   37.0833   -76.3833  \n",
      "1                0   37.0833   -76.3833  \n",
      "3                1   37.0833   -76.3833  \n",
      "4                0   37.0833   -76.3833  \n",
      "6                0   38.0293   -78.4767  \n"
     ]
    },
    {
     "name": "stderr",
     "output_type": "stream",
     "text": [
      "/var/folders/rp/_9dmf8c92tl122d82xm7kvth0000gn/T/ipykernel_16610/2978049282.py:19: SettingWithCopyWarning: \n",
      "A value is trying to be set on a copy of a slice from a DataFrame.\n",
      "Try using .loc[row_indexer,col_indexer] = value instead\n",
      "\n",
      "See the caveats in the documentation: https://pandas.pydata.org/pandas-docs/stable/user_guide/indexing.html#returning-a-view-versus-a-copy\n",
      "  df['Latitude'], df['Longitude'] = zip(*df['Maternal_Region'].apply(get_lat_long))\n",
      "/var/folders/rp/_9dmf8c92tl122d82xm7kvth0000gn/T/ipykernel_16610/2978049282.py:19: SettingWithCopyWarning: \n",
      "A value is trying to be set on a copy of a slice from a DataFrame.\n",
      "Try using .loc[row_indexer,col_indexer] = value instead\n",
      "\n",
      "See the caveats in the documentation: https://pandas.pydata.org/pandas-docs/stable/user_guide/indexing.html#returning-a-view-versus-a-copy\n",
      "  df['Latitude'], df['Longitude'] = zip(*df['Maternal_Region'].apply(get_lat_long))\n"
     ]
    }
   ],
   "source": [
    "# define a function to get the latitude and longitude based on the region name\n",
    "def get_lat_long(region):\n",
    "    if region == 'Northern & Winchester':\n",
    "        return (39.1857, -78.1633)\n",
    "    elif region == 'Central':\n",
    "        return (37.5000, -78.5000)\n",
    "    elif region == 'Tidewater':\n",
    "        return (37.0833, -76.3833)\n",
    "    elif region == 'Charlottesville/Western':\n",
    "        return (38.0293, -78.4767)\n",
    "    elif region == 'Roanoke/Alleghany':\n",
    "        return (37.2709, -79.9414)\n",
    "    elif region == 'Southwest':\n",
    "        return (36.6500, -82.0000)\n",
    "    else:\n",
    "        return (None, None)\n",
    "\n",
    "# add the latitude and longitude columns to the DataFrame\n",
    "df['Latitude'], df['Longitude'] = zip(*df['Maternal_Region'].apply(get_lat_long))\n",
    "\n",
    "# print the first few rows of the updated DataFrame\n",
    "print(df.head())\n",
    "\n",
    "\n",
    "\n",
    "\n",
    "\n"
   ]
  },
  {
   "cell_type": "code",
   "execution_count": 209,
   "metadata": {},
   "outputs": [
    {
     "data": {
      "text/html": [
       "<div>\n",
       "<style scoped>\n",
       "    .dataframe tbody tr th:only-of-type {\n",
       "        vertical-align: middle;\n",
       "    }\n",
       "\n",
       "    .dataframe tbody tr th {\n",
       "        vertical-align: top;\n",
       "    }\n",
       "\n",
       "    .dataframe thead th {\n",
       "        text-align: right;\n",
       "    }\n",
       "</style>\n",
       "<table border=\"1\" class=\"dataframe\">\n",
       "  <thead>\n",
       "    <tr style=\"text-align: right;\">\n",
       "      <th></th>\n",
       "      <th>Medicaid_Program</th>\n",
       "      <th>Maternal_Region</th>\n",
       "      <th>Population_Group</th>\n",
       "      <th>MCO_COUNT</th>\n",
       "      <th>Cont_Enroll_Category</th>\n",
       "      <th>PNC_Index</th>\n",
       "      <th>Prenatal_SBIRT</th>\n",
       "      <th>Postpartum_SBIRT</th>\n",
       "      <th>Prenatal_DepScr</th>\n",
       "      <th>Latitude</th>\n",
       "      <th>Longitude</th>\n",
       "    </tr>\n",
       "  </thead>\n",
       "  <tbody>\n",
       "    <tr>\n",
       "      <th>0</th>\n",
       "      <td>0</td>\n",
       "      <td>Tidewater</td>\n",
       "      <td>0</td>\n",
       "      <td>0</td>\n",
       "      <td>0</td>\n",
       "      <td>4</td>\n",
       "      <td>0</td>\n",
       "      <td>0</td>\n",
       "      <td>0</td>\n",
       "      <td>37.0833</td>\n",
       "      <td>-76.3833</td>\n",
       "    </tr>\n",
       "    <tr>\n",
       "      <th>1</th>\n",
       "      <td>0</td>\n",
       "      <td>Tidewater</td>\n",
       "      <td>0</td>\n",
       "      <td>0</td>\n",
       "      <td>0</td>\n",
       "      <td>1</td>\n",
       "      <td>0</td>\n",
       "      <td>0</td>\n",
       "      <td>0</td>\n",
       "      <td>37.0833</td>\n",
       "      <td>-76.3833</td>\n",
       "    </tr>\n",
       "    <tr>\n",
       "      <th>3</th>\n",
       "      <td>1</td>\n",
       "      <td>Tidewater</td>\n",
       "      <td>0</td>\n",
       "      <td>1</td>\n",
       "      <td>1</td>\n",
       "      <td>3</td>\n",
       "      <td>0</td>\n",
       "      <td>0</td>\n",
       "      <td>1</td>\n",
       "      <td>37.0833</td>\n",
       "      <td>-76.3833</td>\n",
       "    </tr>\n",
       "    <tr>\n",
       "      <th>4</th>\n",
       "      <td>0</td>\n",
       "      <td>Tidewater</td>\n",
       "      <td>0</td>\n",
       "      <td>0</td>\n",
       "      <td>2</td>\n",
       "      <td>3</td>\n",
       "      <td>0</td>\n",
       "      <td>0</td>\n",
       "      <td>0</td>\n",
       "      <td>37.0833</td>\n",
       "      <td>-76.3833</td>\n",
       "    </tr>\n",
       "    <tr>\n",
       "      <th>6</th>\n",
       "      <td>2</td>\n",
       "      <td>Charlottesville/Western</td>\n",
       "      <td>0</td>\n",
       "      <td>1</td>\n",
       "      <td>2</td>\n",
       "      <td>4</td>\n",
       "      <td>0</td>\n",
       "      <td>0</td>\n",
       "      <td>0</td>\n",
       "      <td>38.0293</td>\n",
       "      <td>-78.4767</td>\n",
       "    </tr>\n",
       "  </tbody>\n",
       "</table>\n",
       "</div>"
      ],
      "text/plain": [
       "   Medicaid_Program          Maternal_Region  Population_Group  MCO_COUNT  \\\n",
       "0                 0                Tidewater                 0          0   \n",
       "1                 0                Tidewater                 0          0   \n",
       "3                 1                Tidewater                 0          1   \n",
       "4                 0                Tidewater                 0          0   \n",
       "6                 2  Charlottesville/Western                 0          1   \n",
       "\n",
       "   Cont_Enroll_Category PNC_Index  Prenatal_SBIRT  Postpartum_SBIRT  \\\n",
       "0                     0         4               0                 0   \n",
       "1                     0         1               0                 0   \n",
       "3                     1         3               0                 0   \n",
       "4                     2         3               0                 0   \n",
       "6                     2         4               0                 0   \n",
       "\n",
       "   Prenatal_DepScr  Latitude  Longitude  \n",
       "0                0   37.0833   -76.3833  \n",
       "1                0   37.0833   -76.3833  \n",
       "3                1   37.0833   -76.3833  \n",
       "4                0   37.0833   -76.3833  \n",
       "6                0   38.0293   -78.4767  "
      ]
     },
     "execution_count": 209,
     "metadata": {},
     "output_type": "execute_result"
    }
   ],
   "source": [
    "df.head()"
   ]
  },
  {
   "cell_type": "code",
   "execution_count": 218,
   "metadata": {},
   "outputs": [
    {
     "data": {
      "text/plain": [
       "0    11841\n",
       "1     7011\n",
       "3     4981\n",
       "2     1673\n",
       "4      349\n",
       "Name: Medicaid_Program, dtype: int64"
      ]
     },
     "execution_count": 218,
     "metadata": {},
     "output_type": "execute_result"
    }
   ],
   "source": [
    "df['Medicaid_Program'].value_counts()"
   ]
  },
  {
   "cell_type": "markdown",
   "metadata": {},
   "source": [
    " 0: 'Medicaid for Pregnant Women',\n",
    "    1: 'Other Aid Categories',\n",
    "    2: 'FAMIS MOMS',\n",
    "    3: 'Medicaid Expansion',\n",
    "    4: 'Not Enrolled'"
   ]
  },
  {
   "cell_type": "code",
   "execution_count": 226,
   "metadata": {},
   "outputs": [],
   "source": [
    "import pandas as pd\n",
    "\n",
    "df_without_region = df.drop('Maternal_Region', axis=1)\n",
    "medicaid_counts = df_without_region['Medicaid_Program'].value_counts()\n",
    "pop_counts = df_without_region['Population_Group'].value_counts()\n",
    "mco_counts = df_without_region['MCO_COUNT'].value_counts()\n",
    "enroll_counts = df_without_region['Cont_Enroll_Category'].value_counts()\n",
    "pnc_counts = df_without_region['PNC_Index'].value_counts()\n",
    "prenatal_sbirt_counts = df_without_region['Prenatal_SBIRT'].value_counts()\n",
    "postpartum_sbirt_counts = df_without_region['Postpartum_SBIRT'].value_counts()\n",
    "prenatal_depscr_counts = df_without_region['Prenatal_DepScr'].value_counts()\n",
    "\n",
    "counts_df = pd.DataFrame({'Medicaid_Program': medicaid_counts, \n",
    "                          'Population_Group': pop_counts, \n",
    "                          'MCO_COUNT': mco_counts, \n",
    "                          'Cont_Enroll_Category': enroll_counts, \n",
    "                          'PNC_Index': pnc_counts, \n",
    "                          'Prenatal_SBIRT': prenatal_sbirt_counts, \n",
    "                          'Postpartum_SBIRT': postpartum_sbirt_counts, \n",
    "                          'Prenatal_DepScr': prenatal_depscr_counts})\n"
   ]
  },
  {
   "cell_type": "code",
   "execution_count": 227,
   "metadata": {},
   "outputs": [
    {
     "data": {
      "text/html": [
       "<div>\n",
       "<style scoped>\n",
       "    .dataframe tbody tr th:only-of-type {\n",
       "        vertical-align: middle;\n",
       "    }\n",
       "\n",
       "    .dataframe tbody tr th {\n",
       "        vertical-align: top;\n",
       "    }\n",
       "\n",
       "    .dataframe thead th {\n",
       "        text-align: right;\n",
       "    }\n",
       "</style>\n",
       "<table border=\"1\" class=\"dataframe\">\n",
       "  <thead>\n",
       "    <tr style=\"text-align: right;\">\n",
       "      <th></th>\n",
       "      <th>Medicaid_Program</th>\n",
       "      <th>Population_Group</th>\n",
       "      <th>MCO_COUNT</th>\n",
       "      <th>Cont_Enroll_Category</th>\n",
       "      <th>PNC_Index</th>\n",
       "      <th>Prenatal_SBIRT</th>\n",
       "      <th>Postpartum_SBIRT</th>\n",
       "      <th>Prenatal_DepScr</th>\n",
       "    </tr>\n",
       "  </thead>\n",
       "  <tbody>\n",
       "    <tr>\n",
       "      <th>0</th>\n",
       "      <td>11841</td>\n",
       "      <td>4533.0</td>\n",
       "      <td>3284.0</td>\n",
       "      <td>1507</td>\n",
       "      <td>655</td>\n",
       "      <td>25836.0</td>\n",
       "      <td>25845.0</td>\n",
       "      <td>24297.0</td>\n",
       "    </tr>\n",
       "    <tr>\n",
       "      <th>1</th>\n",
       "      <td>7011</td>\n",
       "      <td>21322.0</td>\n",
       "      <td>20731.0</td>\n",
       "      <td>1949</td>\n",
       "      <td>4644</td>\n",
       "      <td>19.0</td>\n",
       "      <td>10.0</td>\n",
       "      <td>1558.0</td>\n",
       "    </tr>\n",
       "    <tr>\n",
       "      <th>2</th>\n",
       "      <td>1673</td>\n",
       "      <td>NaN</td>\n",
       "      <td>349.0</td>\n",
       "      <td>2969</td>\n",
       "      <td>2718</td>\n",
       "      <td>NaN</td>\n",
       "      <td>NaN</td>\n",
       "      <td>NaN</td>\n",
       "    </tr>\n",
       "    <tr>\n",
       "      <th>3</th>\n",
       "      <td>4981</td>\n",
       "      <td>NaN</td>\n",
       "      <td>1491.0</td>\n",
       "      <td>66</td>\n",
       "      <td>9409</td>\n",
       "      <td>NaN</td>\n",
       "      <td>NaN</td>\n",
       "      <td>NaN</td>\n",
       "    </tr>\n",
       "    <tr>\n",
       "      <th>4</th>\n",
       "      <td>349</td>\n",
       "      <td>NaN</td>\n",
       "      <td>NaN</td>\n",
       "      <td>19364</td>\n",
       "      <td>8429</td>\n",
       "      <td>NaN</td>\n",
       "      <td>NaN</td>\n",
       "      <td>NaN</td>\n",
       "    </tr>\n",
       "  </tbody>\n",
       "</table>\n",
       "</div>"
      ],
      "text/plain": [
       "   Medicaid_Program  Population_Group  MCO_COUNT  Cont_Enroll_Category  \\\n",
       "0             11841            4533.0     3284.0                  1507   \n",
       "1              7011           21322.0    20731.0                  1949   \n",
       "2              1673               NaN      349.0                  2969   \n",
       "3              4981               NaN     1491.0                    66   \n",
       "4               349               NaN        NaN                 19364   \n",
       "\n",
       "   PNC_Index  Prenatal_SBIRT  Postpartum_SBIRT  Prenatal_DepScr  \n",
       "0        655         25836.0           25845.0          24297.0  \n",
       "1       4644            19.0              10.0           1558.0  \n",
       "2       2718             NaN               NaN              NaN  \n",
       "3       9409             NaN               NaN              NaN  \n",
       "4       8429             NaN               NaN              NaN  "
      ]
     },
     "execution_count": 227,
     "metadata": {},
     "output_type": "execute_result"
    }
   ],
   "source": [
    "counts_df.head()"
   ]
  },
  {
   "cell_type": "code",
   "execution_count": 223,
   "metadata": {},
   "outputs": [
    {
     "data": {
      "text/plain": [
       "Northern & Winchester      6815\n",
       "Central                    6311\n",
       "Tidewater                  5997\n",
       "Charlottesville/Western    3429\n",
       "Roanoke/Alleghany          2436\n",
       "Southwest                   867\n",
       "Name: Maternal_Region, dtype: int64"
      ]
     },
     "execution_count": 223,
     "metadata": {},
     "output_type": "execute_result"
    }
   ],
   "source": [
    "df['Maternal_Region'].value_counts()"
   ]
  },
  {
   "cell_type": "code",
   "execution_count": 228,
   "metadata": {},
   "outputs": [],
   "source": [
    "counts_df.to_csv('data2')"
   ]
  },
  {
   "cell_type": "code",
   "execution_count": null,
   "metadata": {},
   "outputs": [],
   "source": []
  }
 ],
 "metadata": {
  "kernelspec": {
   "display_name": "Python 3.9.12 ('base')",
   "language": "python",
   "name": "python3"
  },
  "language_info": {
   "codemirror_mode": {
    "name": "ipython",
    "version": 3
   },
   "file_extension": ".py",
   "mimetype": "text/x-python",
   "name": "python",
   "nbconvert_exporter": "python",
   "pygments_lexer": "ipython3",
   "version": "3.9.12"
  },
  "orig_nbformat": 4,
  "vscode": {
   "interpreter": {
    "hash": "e96a2261831ab21a334191d8f691b12745190f788f2df712acb34c1897b27145"
   }
  }
 },
 "nbformat": 4,
 "nbformat_minor": 2
}
